{
 "metadata": {
  "language_info": {
   "codemirror_mode": {
    "name": "ipython",
    "version": 3
   },
   "file_extension": ".py",
   "mimetype": "text/x-python",
   "name": "python",
   "nbconvert_exporter": "python",
   "pygments_lexer": "ipython3",
   "version": "3.9.0"
  },
  "orig_nbformat": 2,
  "kernelspec": {
   "name": "python3",
   "display_name": "Python 3.9.0 64-bit"
  },
  "interpreter": {
   "hash": "aee8b7b246df8f9039afb4144a1f6fd8d2ca17a180786b69acc140d282b71a49"
  }
 },
 "nbformat": 4,
 "nbformat_minor": 2,
 "cells": [
  {
   "cell_type": "code",
   "execution_count": 2,
   "source": [
    "import requests\n",
    "import pandas as pd\n",
    "from typing import Text\n",
    "from flask import Flask, render_template\n",
    "import pandas as pd\n",
    "import requests\n",
    "from datetime import timedelta, datetime, date\n",
    "import time\n",
    "\n"
   ],
   "outputs": [],
   "metadata": {}
  },
  {
   "cell_type": "code",
   "execution_count": 17,
   "source": [
    "\n",
    "url = 'https://fantasy.premierleague.com/api/entry/956051/history/'\n",
    "r = requests.get(url).json()\n",
    "avg:int = (r['past'][-1]['rank'] + r['past'][-2]['rank'] + r['past'][-3]['rank']) / 3\n",
    "avg"
   ],
   "outputs": [
    {
     "output_type": "execute_result",
     "data": {
      "text/plain": [
       "624609.0"
      ]
     },
     "metadata": {},
     "execution_count": 17
    }
   ],
   "metadata": {}
  },
  {
   "cell_type": "code",
   "execution_count": 214,
   "source": [
    "def getPlayerInfo(playerId): \n",
    "    url2 = 'https://fantasy.premierleague.com/api/event/' + str(thisGw) + '/live/'\n",
    "    liveInfo = requests.get(url2).json()['elements']\n",
    "    liveInfo = liveInfo[playerId-1]['explain']\n",
    "    playerInfo = []\n",
    "    for stats in liveInfo:\n",
    "        for stat in stats['stats']:\n",
    "            playerInfo.append(stat)\n",
    "\n",
    "    df = pd.DataFrame(playerInfo)\n",
    "    test = []\n",
    "    visited = []\n",
    "    for i in range(len(df)):\n",
    "        tempIdentifier = df.at[i, 'identifier']\n",
    "        if tempIdentifier not in visited:\n",
    "            tempValue = df.loc[df['identifier'] == tempIdentifier, 'value'].sum()\n",
    "            test.append({\n",
    "                'identifier' : tempIdentifier,\n",
    "                'value' : tempValue\n",
    "            })\n",
    "            visited.append(tempIdentifier)\n",
    "    return test\n"
   ],
   "outputs": [],
   "metadata": {}
  },
  {
   "cell_type": "code",
   "execution_count": 216,
   "source": [
    "getPlayerInfo(1)"
   ],
   "outputs": [
    {
     "output_type": "execute_result",
     "data": {
      "text/plain": [
       "[{'identifier': 'minutes', 'value': 0}]"
      ]
     },
     "metadata": {},
     "execution_count": 216
    }
   ],
   "metadata": {}
  },
  {
   "cell_type": "code",
   "execution_count": 190,
   "source": [
    "import collections, functools, operator"
   ],
   "outputs": [],
   "metadata": {}
  },
  {
   "cell_type": "code",
   "execution_count": 192,
   "source": [
    "playerInfo"
   ],
   "outputs": [
    {
     "output_type": "execute_result",
     "data": {
      "text/plain": [
       "[{'identifier': 'minutes', 'points': 0, 'value': 0},\n",
       " {'identifier': 'minutes', 'points': 2, 'value': 90},\n",
       " {'identifier': 'goals_scored', 'points': 8, 'value': 2},\n",
       " {'identifier': 'bonus', 'points': 2, 'value': 2}]"
      ]
     },
     "metadata": {},
     "execution_count": 192
    }
   ],
   "metadata": {}
  },
  {
   "cell_type": "code",
   "execution_count": 207,
   "source": [
    "playerInfo[0].values()"
   ],
   "outputs": [
    {
     "output_type": "execute_result",
     "data": {
      "text/plain": [
       "dict_values(['minutes', 0, 0])"
      ]
     },
     "metadata": {},
     "execution_count": 207
    }
   ],
   "metadata": {}
  },
  {
   "cell_type": "code",
   "execution_count": 135,
   "source": [
    "df = pd.DataFrame(playerInfo)\n",
    "df"
   ],
   "outputs": [
    {
     "output_type": "execute_result",
     "data": {
      "text/plain": [
       "     identifier  points  value\n",
       "0       minutes       0      0\n",
       "1       minutes       2     90\n",
       "2  goals_scored       8      2\n",
       "3         bonus       2      2"
      ],
      "text/html": [
       "<div>\n",
       "<style scoped>\n",
       "    .dataframe tbody tr th:only-of-type {\n",
       "        vertical-align: middle;\n",
       "    }\n",
       "\n",
       "    .dataframe tbody tr th {\n",
       "        vertical-align: top;\n",
       "    }\n",
       "\n",
       "    .dataframe thead th {\n",
       "        text-align: right;\n",
       "    }\n",
       "</style>\n",
       "<table border=\"1\" class=\"dataframe\">\n",
       "  <thead>\n",
       "    <tr style=\"text-align: right;\">\n",
       "      <th></th>\n",
       "      <th>identifier</th>\n",
       "      <th>points</th>\n",
       "      <th>value</th>\n",
       "    </tr>\n",
       "  </thead>\n",
       "  <tbody>\n",
       "    <tr>\n",
       "      <th>0</th>\n",
       "      <td>minutes</td>\n",
       "      <td>0</td>\n",
       "      <td>0</td>\n",
       "    </tr>\n",
       "    <tr>\n",
       "      <th>1</th>\n",
       "      <td>minutes</td>\n",
       "      <td>2</td>\n",
       "      <td>90</td>\n",
       "    </tr>\n",
       "    <tr>\n",
       "      <th>2</th>\n",
       "      <td>goals_scored</td>\n",
       "      <td>8</td>\n",
       "      <td>2</td>\n",
       "    </tr>\n",
       "    <tr>\n",
       "      <th>3</th>\n",
       "      <td>bonus</td>\n",
       "      <td>2</td>\n",
       "      <td>2</td>\n",
       "    </tr>\n",
       "  </tbody>\n",
       "</table>\n",
       "</div>"
      ]
     },
     "metadata": {},
     "execution_count": 135
    }
   ],
   "metadata": {}
  },
  {
   "cell_type": "code",
   "execution_count": 211,
   "source": [
    "test = []\n",
    "visited = []\n",
    "for i in range(len(df)):\n",
    "    tempIdentifier = df.at[i, 'identifier']\n",
    "    if tempIdentifier not in visited:\n",
    "        tempValue = df.loc[df['identifier'] == tempIdentifier, 'value'].sum()\n",
    "        test.append({\n",
    "            'identifier' : tempIdentifier,\n",
    "            'value' : tempValue\n",
    "        })\n",
    "        visited.append(tempIdentifier)\n",
    "test"
   ],
   "outputs": [
    {
     "output_type": "execute_result",
     "data": {
      "text/plain": [
       "[{'identifier': 'minutes', 'value': 90},\n",
       " {'identifier': 'goals_scored', 'value': 2},\n",
       " {'identifier': 'bonus', 'value': 2}]"
      ]
     },
     "metadata": {},
     "execution_count": 211
    }
   ],
   "metadata": {}
  },
  {
   "cell_type": "code",
   "execution_count": 134,
   "source": [
    "for stats in liveInfo:\n",
    "    for stat in stats['stats']:\n",
    "        tempList = list(stat.keys())\n",
    "         "
   ],
   "outputs": [],
   "metadata": {}
  },
  {
   "cell_type": "code",
   "execution_count": 182,
   "source": [
    "test[0]['identifier']"
   ],
   "outputs": [
    {
     "output_type": "execute_result",
     "data": {
      "text/plain": [
       "'goals_scored'"
      ]
     },
     "metadata": {},
     "execution_count": 182
    }
   ],
   "metadata": {}
  },
  {
   "cell_type": "code",
   "execution_count": null,
   "source": [],
   "outputs": [],
   "metadata": {}
  }
 ]
}