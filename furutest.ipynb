{
 "metadata": {
  "language_info": {
   "codemirror_mode": {
    "name": "ipython",
    "version": 3
   },
   "file_extension": ".py",
   "mimetype": "text/x-python",
   "name": "python",
   "nbconvert_exporter": "python",
   "pygments_lexer": "ipython3",
   "version": "3.9.0-final"
  },
  "orig_nbformat": 2,
  "kernelspec": {
   "name": "python3",
   "display_name": "Python 3",
   "language": "python"
  }
 },
 "nbformat": 4,
 "nbformat_minor": 2,
 "cells": [
  {
   "cell_type": "code",
   "execution_count": 1,
   "metadata": {},
   "outputs": [],
   "source": [
    "import requests\n",
    "import pandas as pd\n",
    "from typing import Text\n",
    "from flask import Flask, render_template\n",
    "import pandas as pd\n",
    "import requests\n",
    "from datetime import timedelta, datetime\n"
   ]
  },
  {
   "cell_type": "code",
   "execution_count": 143,
   "metadata": {},
   "outputs": [],
   "source": [
    "def getPlayerInfo(playerId):\n",
    "    url2 = 'https://fantasy.premierleague.com/api/event/28/live/'\n",
    "    r2 = requests.get(url2)\n",
    "    json2 = r2.json()\n",
    "    liveInfo = pd.DataFrame(json2['elements'])\n",
    "    liveInfo = pd.DataFrame(liveInfo['explain'].values.tolist())\n",
    "\n",
    "    liveInfo = liveInfo.iat[playerId - 1,0]\n",
    "\n",
    "    playerInfo = []\n",
    "    for info in liveInfo['stats']:\n",
    "        if (info['identifier'] != 'bonus'):\n",
    "            playerInfo.append(info)\n",
    "    \n",
    "    try:\n",
    "        if bonuspoints.at[playerId] > 0:\n",
    "            playerInfo.append({'identifier': 'bonus', 'points': bonuspoints.at[playerId], 'value': bonuspoints.at[playerId]})\n",
    "    except:\n",
    "        pass\n",
    "\n",
    "    return playerInfo\n"
   ]
  },
  {
   "cell_type": "code",
   "execution_count": 144,
   "metadata": {},
   "outputs": [
    {
     "output_type": "execute_result",
     "data": {
      "text/plain": [
       "[{'identifier': 'minutes', 'points': 2, 'value': 90},\n",
       " {'identifier': 'bonus', 'points': 2, 'value': 2}]"
      ]
     },
     "metadata": {},
     "execution_count": 144
    }
   ],
   "source": [
    "getPlayerInfo(42)"
   ]
  },
  {
   "cell_type": "code",
   "execution_count": 154,
   "metadata": {},
   "outputs": [
    {
     "output_type": "execute_result",
     "data": {
      "text/plain": [
       "             navn  points  pos   photo  byttet_ut  byttet_inn\n",
       "0        Martínez       3    1   98980      False       False\n",
       "1         Cancelo      12    2  121145      False       False\n",
       "2            Dias       6    2  171314      False       False\n",
       "3         Targett       4    2  169359      False       False\n",
       "4        Raphinha       3    3  219961      False        True\n",
       "5           Salah       0    3  118748      False       False\n",
       "6       Fernandes       0    3  141746      False       False\n",
       "7             Son       0    3   85971      False       False\n",
       "8         Watkins       5    4  178301      False       False\n",
       "9         Bamford       1    4  106617      False       False\n",
       "10  Calvert-Lewin       6    4  177815      False       False\n",
       "11           Pope       0    1   98747      False       False\n",
       "12       Gündogan       0    3   59859       True       False\n",
       "13         Dallas       0    2   87873      False       False\n",
       "14         Coufal       0    2  164555      False       False"
      ],
      "text/html": "<div>\n<style scoped>\n    .dataframe tbody tr th:only-of-type {\n        vertical-align: middle;\n    }\n\n    .dataframe tbody tr th {\n        vertical-align: top;\n    }\n\n    .dataframe thead th {\n        text-align: right;\n    }\n</style>\n<table border=\"1\" class=\"dataframe\">\n  <thead>\n    <tr style=\"text-align: right;\">\n      <th></th>\n      <th>navn</th>\n      <th>points</th>\n      <th>pos</th>\n      <th>photo</th>\n      <th>byttet_ut</th>\n      <th>byttet_inn</th>\n    </tr>\n  </thead>\n  <tbody>\n    <tr>\n      <th>0</th>\n      <td>Martínez</td>\n      <td>3</td>\n      <td>1</td>\n      <td>98980</td>\n      <td>False</td>\n      <td>False</td>\n    </tr>\n    <tr>\n      <th>1</th>\n      <td>Cancelo</td>\n      <td>12</td>\n      <td>2</td>\n      <td>121145</td>\n      <td>False</td>\n      <td>False</td>\n    </tr>\n    <tr>\n      <th>2</th>\n      <td>Dias</td>\n      <td>6</td>\n      <td>2</td>\n      <td>171314</td>\n      <td>False</td>\n      <td>False</td>\n    </tr>\n    <tr>\n      <th>3</th>\n      <td>Targett</td>\n      <td>4</td>\n      <td>2</td>\n      <td>169359</td>\n      <td>False</td>\n      <td>False</td>\n    </tr>\n    <tr>\n      <th>4</th>\n      <td>Raphinha</td>\n      <td>3</td>\n      <td>3</td>\n      <td>219961</td>\n      <td>False</td>\n      <td>True</td>\n    </tr>\n    <tr>\n      <th>5</th>\n      <td>Salah</td>\n      <td>0</td>\n      <td>3</td>\n      <td>118748</td>\n      <td>False</td>\n      <td>False</td>\n    </tr>\n    <tr>\n      <th>6</th>\n      <td>Fernandes</td>\n      <td>0</td>\n      <td>3</td>\n      <td>141746</td>\n      <td>False</td>\n      <td>False</td>\n    </tr>\n    <tr>\n      <th>7</th>\n      <td>Son</td>\n      <td>0</td>\n      <td>3</td>\n      <td>85971</td>\n      <td>False</td>\n      <td>False</td>\n    </tr>\n    <tr>\n      <th>8</th>\n      <td>Watkins</td>\n      <td>5</td>\n      <td>4</td>\n      <td>178301</td>\n      <td>False</td>\n      <td>False</td>\n    </tr>\n    <tr>\n      <th>9</th>\n      <td>Bamford</td>\n      <td>1</td>\n      <td>4</td>\n      <td>106617</td>\n      <td>False</td>\n      <td>False</td>\n    </tr>\n    <tr>\n      <th>10</th>\n      <td>Calvert-Lewin</td>\n      <td>6</td>\n      <td>4</td>\n      <td>177815</td>\n      <td>False</td>\n      <td>False</td>\n    </tr>\n    <tr>\n      <th>11</th>\n      <td>Pope</td>\n      <td>0</td>\n      <td>1</td>\n      <td>98747</td>\n      <td>False</td>\n      <td>False</td>\n    </tr>\n    <tr>\n      <th>12</th>\n      <td>Gündogan</td>\n      <td>0</td>\n      <td>3</td>\n      <td>59859</td>\n      <td>True</td>\n      <td>False</td>\n    </tr>\n    <tr>\n      <th>13</th>\n      <td>Dallas</td>\n      <td>0</td>\n      <td>2</td>\n      <td>87873</td>\n      <td>False</td>\n      <td>False</td>\n    </tr>\n    <tr>\n      <th>14</th>\n      <td>Coufal</td>\n      <td>0</td>\n      <td>2</td>\n      <td>164555</td>\n      <td>False</td>\n      <td>False</td>\n    </tr>\n  </tbody>\n</table>\n</div>"
     },
     "metadata": {},
     "execution_count": 154
    }
   ],
   "source": [
    "data"
   ]
  },
  {
   "cell_type": "code",
   "execution_count": 219,
   "metadata": {},
   "outputs": [],
   "source": [
    "def getLivePlayerInfo(playerId):\n",
    "    pId = (playerId - 1)\n",
    "    url2 = 'https://fantasy.premierleague.com/api/event/28/live/'\n",
    "    r2 = requests.get(url2)\n",
    "    json2 = r2.json()\n",
    "    liveInfo = pd.DataFrame(json2['elements'])\n",
    "    liveInfo = pd.DataFrame(liveInfo['stats'].values.tolist())\n",
    "\n",
    "    playerInfo = {}\n",
    "    \n",
    "    playerInfo['Min: '] = liveInfo.at[pId, 'minutes']\n",
    "\n",
    "    if liveInfo.at[pId, 'goals_scored'] > 0:\n",
    "        playerInfo['Goal: '] = liveInfo.at[pId, 'minutes']\n",
    "    \n",
    "    if liveInfo.at[pId, 'assists'] > 0:\n",
    "        playerInfo['Assist: '] = liveInfo.at[pId, 'minutes']\n",
    "    \n",
    "    if liveInfo.at[pId, 'clean_sheets'] > 0:\n",
    "        playerInfo['Clean: '] = '✓'\n",
    "\n",
    "    try:\n",
    "        if bonuspoints.at[playerId] > 0:\n",
    "            playerInfo['Bonus: '] = bonuspoints.at[playerId]\n",
    "    except:\n",
    "        pass\n",
    "\n",
    "    return playerInfo"
   ]
  },
  {
   "cell_type": "code",
   "execution_count": null,
   "metadata": {},
   "outputs": [],
   "source": []
  },
  {
   "cell_type": "code",
   "execution_count": 220,
   "metadata": {},
   "outputs": [
    {
     "output_type": "execute_result",
     "data": {
      "text/plain": [
       "{'Min: ': 90, 'Bonus: ': 2}"
      ]
     },
     "metadata": {},
     "execution_count": 220
    }
   ],
   "source": [
    "getLivePlayerInfo(42)"
   ]
  },
  {
   "cell_type": "code",
   "execution_count": null,
   "metadata": {},
   "outputs": [],
   "source": [
    "def getTeamList():\n",
    "        url2 = 'https://fantasy.premierleague.com/api/leagues-classic/627607/standings/'\n",
    "        r2 = requests.get(url2)\n",
    "        json2 = r2.json()\n",
    "        standings_df = pd.DataFrame(json2['standings'])\n",
    "        league_df = pd.DataFrame(standings_df['results'].values.tolist())\n",
    "        return league_df [['entry', 'player_name']]\n",
    "\n",
    "teamsList = getTeamList()\n"
   ]
  },
  {
   "cell_type": "code",
   "execution_count": 6,
   "metadata": {},
   "outputs": [],
   "source": [
    "def getManagerName(lagId):\n",
    "    for i in range (len(teamsList['entry'])):\n",
    "        if (teamsList['entry'][i] == int(lagId)):\n",
    "            return teamsList['player_name'][i]\n"
   ]
  },
  {
   "cell_type": "code",
   "execution_count": 7,
   "metadata": {},
   "outputs": [
    {
     "output_type": "execute_result",
     "data": {
      "text/plain": [
       "'Vegard Vestvik'"
      ]
     },
     "metadata": {},
     "execution_count": 7
    }
   ],
   "source": [
    "getManagerName('1309866')"
   ]
  },
  {
   "cell_type": "code",
   "execution_count": 8,
   "metadata": {},
   "outputs": [],
   "source": [
    "url = 'https://fantasy.premierleague.com/api/entry/3378570/transfers/'\n",
    "r = requests.get(url)\n",
    "json = r.json()\n",
    "trans = pd.DataFrame(json)"
   ]
  },
  {
   "cell_type": "code",
   "execution_count": 9,
   "metadata": {},
   "outputs": [],
   "source": [
    "trans = trans.set_index('event')"
   ]
  },
  {
   "cell_type": "code",
   "execution_count": 10,
   "metadata": {},
   "outputs": [
    {
     "output_type": "execute_result",
     "data": {
      "text/plain": [
       "       element_in  element_in_cost  element_out  element_out_cost    entry  \\\n",
       "event                                                                        \n",
       "27            570               54          235                68  3378570   \n",
       "26            164               76          262                44  3378570   \n",
       "26            235               68           37                77  3378570   \n",
       "26             29               43          146                39  3378570   \n",
       "25            514               65          569                79  3378570   \n",
       "\n",
       "                              time  \n",
       "event                               \n",
       "27     2021-03-05T22:22:23.576921Z  \n",
       "26     2021-02-22T10:49:42.220515Z  \n",
       "26     2021-02-22T10:49:42.213685Z  \n",
       "26     2021-02-22T10:49:42.204413Z  \n",
       "25     2021-02-19T08:15:35.356599Z  "
      ],
      "text/html": "<div>\n<style scoped>\n    .dataframe tbody tr th:only-of-type {\n        vertical-align: middle;\n    }\n\n    .dataframe tbody tr th {\n        vertical-align: top;\n    }\n\n    .dataframe thead th {\n        text-align: right;\n    }\n</style>\n<table border=\"1\" class=\"dataframe\">\n  <thead>\n    <tr style=\"text-align: right;\">\n      <th></th>\n      <th>element_in</th>\n      <th>element_in_cost</th>\n      <th>element_out</th>\n      <th>element_out_cost</th>\n      <th>entry</th>\n      <th>time</th>\n    </tr>\n    <tr>\n      <th>event</th>\n      <th></th>\n      <th></th>\n      <th></th>\n      <th></th>\n      <th></th>\n      <th></th>\n    </tr>\n  </thead>\n  <tbody>\n    <tr>\n      <th>27</th>\n      <td>570</td>\n      <td>54</td>\n      <td>235</td>\n      <td>68</td>\n      <td>3378570</td>\n      <td>2021-03-05T22:22:23.576921Z</td>\n    </tr>\n    <tr>\n      <th>26</th>\n      <td>164</td>\n      <td>76</td>\n      <td>262</td>\n      <td>44</td>\n      <td>3378570</td>\n      <td>2021-02-22T10:49:42.220515Z</td>\n    </tr>\n    <tr>\n      <th>26</th>\n      <td>235</td>\n      <td>68</td>\n      <td>37</td>\n      <td>77</td>\n      <td>3378570</td>\n      <td>2021-02-22T10:49:42.213685Z</td>\n    </tr>\n    <tr>\n      <th>26</th>\n      <td>29</td>\n      <td>43</td>\n      <td>146</td>\n      <td>39</td>\n      <td>3378570</td>\n      <td>2021-02-22T10:49:42.204413Z</td>\n    </tr>\n    <tr>\n      <th>25</th>\n      <td>514</td>\n      <td>65</td>\n      <td>569</td>\n      <td>79</td>\n      <td>3378570</td>\n      <td>2021-02-19T08:15:35.356599Z</td>\n    </tr>\n  </tbody>\n</table>\n</div>"
     },
     "metadata": {},
     "execution_count": 10
    }
   ],
   "source": [
    "trans.head()"
   ]
  },
  {
   "cell_type": "code",
   "execution_count": 274,
   "metadata": {},
   "outputs": [],
   "source": []
  },
  {
   "cell_type": "code",
   "execution_count": 11,
   "metadata": {},
   "outputs": [
    {
     "output_type": "execute_result",
     "data": {
      "text/plain": [
       "       element_in  element_in_cost  element_out  element_out_cost    entry  \\\n",
       "event                                                                        \n",
       "22            306               95          284                62  3378570   \n",
       "22            506               67          303                87  3378570   \n",
       "\n",
       "                              time  \n",
       "event                               \n",
       "22     2021-02-02T16:28:42.885177Z  \n",
       "22     2021-02-02T16:28:42.878609Z  "
      ],
      "text/html": "<div>\n<style scoped>\n    .dataframe tbody tr th:only-of-type {\n        vertical-align: middle;\n    }\n\n    .dataframe tbody tr th {\n        vertical-align: top;\n    }\n\n    .dataframe thead th {\n        text-align: right;\n    }\n</style>\n<table border=\"1\" class=\"dataframe\">\n  <thead>\n    <tr style=\"text-align: right;\">\n      <th></th>\n      <th>element_in</th>\n      <th>element_in_cost</th>\n      <th>element_out</th>\n      <th>element_out_cost</th>\n      <th>entry</th>\n      <th>time</th>\n    </tr>\n    <tr>\n      <th>event</th>\n      <th></th>\n      <th></th>\n      <th></th>\n      <th></th>\n      <th></th>\n      <th></th>\n    </tr>\n  </thead>\n  <tbody>\n    <tr>\n      <th>22</th>\n      <td>306</td>\n      <td>95</td>\n      <td>284</td>\n      <td>62</td>\n      <td>3378570</td>\n      <td>2021-02-02T16:28:42.885177Z</td>\n    </tr>\n    <tr>\n      <th>22</th>\n      <td>506</td>\n      <td>67</td>\n      <td>303</td>\n      <td>87</td>\n      <td>3378570</td>\n      <td>2021-02-02T16:28:42.878609Z</td>\n    </tr>\n  </tbody>\n</table>\n</div>"
     },
     "metadata": {},
     "execution_count": 11
    }
   ],
   "source": [
    "trans.loc[22]"
   ]
  },
  {
   "cell_type": "code",
   "execution_count": 12,
   "metadata": {},
   "outputs": [],
   "source": [
    "def getTransfers(teamID):\n",
    "    url = 'https://fantasy.premierleague.com/api/entry/'+ str(teamID) + '/transfers/'\n",
    "    r = requests.get(url)\n",
    "    json = r.json()\n",
    "    trans = pd.DataFrame(json).set_index('event')\n",
    "    thisGw = 23\n",
    "    try:\n",
    "        trans = trans.loc[thisGw]\n",
    "        try:\n",
    "            for index, row in trans.iterrows():\n",
    "                print(getPlayerName(row['element_out']) + ' <- ->', getPlayerName(row[\"element_in\"]))\n",
    "        except:\n",
    "            print (getPlayerName(trans.at['element_out']) + ' <- ->', getPlayerName(trans.at['element_in']))\n",
    "    except:\n",
    "        print('Ingen bytter')    \n"
   ]
  },
  {
   "cell_type": "code",
   "execution_count": 13,
   "metadata": {},
   "outputs": [
    {
     "output_type": "stream",
     "name": "stdout",
     "text": [
      "Ingen bytter\n"
     ]
    }
   ],
   "source": [
    "getTransfers(3378570)"
   ]
  },
  {
   "cell_type": "code",
   "execution_count": 14,
   "metadata": {},
   "outputs": [],
   "source": [
    "def getPlayerName(playerID):\n",
    "    return elements.at[playerID, 'web_name']"
   ]
  },
  {
   "cell_type": "code",
   "execution_count": 15,
   "metadata": {},
   "outputs": [
    {
     "output_type": "error",
     "ename": "NameError",
     "evalue": "name 'elements' is not defined",
     "traceback": [
      "\u001b[0;31m---------------------------------------------------------------------------\u001b[0m",
      "\u001b[0;31mNameError\u001b[0m                                 Traceback (most recent call last)",
      "\u001b[0;32m<ipython-input-15-2d7a55714572>\u001b[0m in \u001b[0;36m<module>\u001b[0;34m\u001b[0m\n\u001b[0;32m----> 1\u001b[0;31m \u001b[0mgetPlayerName\u001b[0m\u001b[0;34m(\u001b[0m\u001b[0;36m3\u001b[0m\u001b[0;34m)\u001b[0m\u001b[0;34m\u001b[0m\u001b[0;34m\u001b[0m\u001b[0m\n\u001b[0m",
      "\u001b[0;32m<ipython-input-14-ef708bc0a74b>\u001b[0m in \u001b[0;36mgetPlayerName\u001b[0;34m(playerID)\u001b[0m\n\u001b[1;32m      1\u001b[0m \u001b[0;32mdef\u001b[0m \u001b[0mgetPlayerName\u001b[0m\u001b[0;34m(\u001b[0m\u001b[0mplayerID\u001b[0m\u001b[0;34m)\u001b[0m\u001b[0;34m:\u001b[0m\u001b[0;34m\u001b[0m\u001b[0;34m\u001b[0m\u001b[0m\n\u001b[0;32m----> 2\u001b[0;31m     \u001b[0;32mreturn\u001b[0m \u001b[0melements\u001b[0m\u001b[0;34m.\u001b[0m\u001b[0mat\u001b[0m\u001b[0;34m[\u001b[0m\u001b[0mplayerID\u001b[0m\u001b[0;34m,\u001b[0m \u001b[0;34m'web_name'\u001b[0m\u001b[0;34m]\u001b[0m\u001b[0;34m\u001b[0m\u001b[0;34m\u001b[0m\u001b[0m\n\u001b[0m",
      "\u001b[0;31mNameError\u001b[0m: name 'elements' is not defined"
     ]
    }
   ],
   "source": [
    "getPlayerName(3)"
   ]
  },
  {
   "cell_type": "code",
   "execution_count": 16,
   "metadata": {},
   "outputs": [],
   "source": [
    "url2 = 'https://fantasy.premierleague.com/api/bootstrap-static/'\n",
    "r2 = requests.get(url2)\n",
    "json2 = r2.json()\n",
    "elements = pd.DataFrame(json2['elements']).set_index('id')"
   ]
  },
  {
   "cell_type": "code",
   "execution_count": 407,
   "metadata": {},
   "outputs": [
    {
     "output_type": "error",
     "ename": "SyntaxError",
     "evalue": "invalid syntax (<ipython-input-407-23b826c40431>, line 1)",
     "traceback": [
      "\u001b[0;36m  File \u001b[0;32m\"<ipython-input-407-23b826c40431>\"\u001b[0;36m, line \u001b[0;32m1\u001b[0m\n\u001b[0;31m    getAllTransfers():\u001b[0m\n\u001b[0m                      ^\u001b[0m\n\u001b[0;31mSyntaxError\u001b[0m\u001b[0;31m:\u001b[0m invalid syntax\n"
     ]
    }
   ],
   "source": []
  },
  {
   "cell_type": "code",
   "execution_count": 17,
   "metadata": {},
   "outputs": [],
   "source": [
    "def getAllTransfers():\n",
    "    url = 'https://fantasy.premierleague.com/api/leagues-classic/627607/standings/'\n",
    "    r = requests.get(url)\n",
    "    json = r.json()\n",
    "    teams = pd.DataFrame(json['standings']['results'])\n",
    "    playerid = teams[['player_name', 'entry']]\n",
    "\n",
    "    for i in range(len(playerid)):\n",
    "        print(playerid.at[i, 'player_name'])\n",
    "        getTransfers(playerid.at[i, 'entry'])"
   ]
  },
  {
   "cell_type": "code",
   "execution_count": 18,
   "metadata": {},
   "outputs": [
    {
     "output_type": "stream",
     "name": "stdout",
     "text": [
      "Vegard Vestvik\n",
      "Chilwell <- -> Rüdiger\n",
      "Mitchell <- -> Shaw\n",
      "Oda Haugane\n",
      "Ingen bytter\n",
      "Tor Aimar Carlsen\n",
      "Ingen bytter\n",
      "Endre Bratland Skurtveit\n",
      "Tierney <- -> Cresswell\n",
      "Cavani <- -> Antonio\n",
      "Espen Sævig\n",
      "Chilwell <- -> Alonso\n",
      "Stian Linde\n",
      "Ingen bytter\n",
      "Dan Erik Linde\n",
      "Robertson <- -> Alonso\n",
      "Eirik Rode\n",
      "Ingen bytter\n",
      "Simen Madsen\n",
      "Ingen bytter\n",
      "Hogne Vestvik\n",
      "Ingen bytter\n"
     ]
    }
   ],
   "source": [
    "getAllTransfers()"
   ]
  },
  {
   "cell_type": "code",
   "execution_count": 149,
   "metadata": {},
   "outputs": [],
   "source": [
    "def getTeamList():\n",
    "        url2 = 'https://fantasy.premierleague.com/api/leagues-classic/627607/standings/'\n",
    "        r2 = requests.get(url2)\n",
    "        json2 = r2.json()\n",
    "        standings_df = pd.DataFrame(json2['standings'])\n",
    "        league_df = pd.DataFrame(standings_df['results'].values.tolist())\n",
    "        return league_df [['entry', 'player_name']]\n",
    "\n",
    "teamsList = getTeamList()\n",
    "\n",
    "def getBootstrapTeams():\n",
    "    url4 = 'https://fantasy.premierleague.com/api/bootstrap-static/'\n",
    "    r4 = requests.get(url4)\n",
    "    json = r4.json()\n",
    "    gameweek_df = pd.DataFrame(json['elements'])\n",
    "    teams = gameweek_df[['id', 'team', 'element_type']]\n",
    "    teams.set_index('id', inplace = True)\n",
    "    return teams\n",
    "\n",
    "teams = getBootstrapTeams()\n",
    "\n",
    "def getBootstrapNames():\n",
    "    url2 = 'https://fantasy.premierleague.com/api/bootstrap-static/'\n",
    "    r2 = requests.get(url2)\n",
    "    json2 = r2.json()\n",
    "    return pd.DataFrame(json2['elements']).set_index('id')\n",
    "\n",
    "names = getBootstrapNames()"
   ]
  },
  {
   "cell_type": "code",
   "execution_count": 150,
   "metadata": {},
   "outputs": [],
   "source": [
    "from typing import Text\n",
    "from flask import Flask, render_template\n",
    "import pandas as pd\n",
    "import requests\n",
    "from datetime import timedelta, datetime\n"
   ]
  },
  {
   "cell_type": "code",
   "execution_count": 236,
   "metadata": {},
   "outputs": [],
   "source": [
    "    def checkGameweek():\n",
    "        url3 = 'https://fantasy.premierleague.com/api/bootstrap-static/'\n",
    "        r3 = requests.get(url3)\n",
    "        json = r3.json()\n",
    "        gameweek_df = pd.DataFrame(json['events'])\n",
    "        iscurrent = gameweek_df[['id', 'is_current']]\n",
    "        currentGw = iscurrent.loc[(iscurrent.is_current == True)].iat[0,0]\n",
    "        return currentGw\n",
    "\n",
    "    thisGw = checkGameweek()\n",
    "\n",
    "    def getGwFixtures():\n",
    "        url2 = 'https://fantasy.premierleague.com/api/fixtures/?event=' + str(thisGw)\n",
    "        r2 = requests.get(url2)\n",
    "        json2 = r2.json()\n",
    "        fixtures_df = pd.DataFrame(json2)\n",
    "        \n",
    "        hfixtures = fixtures_df[['team_h', 'finished_provisional']]\n",
    "\n",
    "        aFixtures = fixtures_df[['team_a', 'finished_provisional']]\n",
    "        aFixtures.columns = ['team_h', 'finished_provisional']\n",
    "        \n",
    "        allFix = hfixtures.append(aFixtures)\n",
    "        allFix.set_index('team_h', inplace = True)\n",
    "        return allFix\n",
    "\n",
    "    allFix = getGwFixtures()\n",
    "\n",
    "    def getMinutesPlayed():\n",
    "        url1 = 'https://fantasy.premierleague.com/api/event/' + str(thisGw) + '/live/'\n",
    "        r1 = requests.get(url1)\n",
    "        json1 = r1.json()\n",
    "        liveElements_df = pd.DataFrame(json1['elements'])\n",
    "        ids = liveElements_df['id']\n",
    "        stats_df = pd.DataFrame(liveElements_df['stats'].values.tolist())\n",
    "        minutes = pd.DataFrame(stats_df['minutes'])\n",
    "\n",
    "        minutes.insert(0, 'id', ids, True)\n",
    "\n",
    "        minutes.set_index('id', inplace = True)\n",
    "        return minutes\n",
    "\n",
    "    minutes = getMinutesPlayed()\n",
    "\n",
    "    def getPlayerName(playerID):\n",
    "        return names.at[playerID, 'web_name']\n",
    "\n",
    "    def didNotPlay(playerId):\n",
    "        teamId = teams.at[playerId, 'team']\n",
    "        try:\n",
    "            return minutes.at[playerId, 'minutes'] == 0 and all(allFix.at[teamId, 'finished_provisional'])\n",
    "        except:\n",
    "            try:\n",
    "                return minutes.at[playerId, 'minutes'] == 0 and allFix.at[teamId, 'finished_provisional']\n",
    "            except:\n",
    "                return True\n",
    "    \n",
    "    def getAutoSubs(teamId):   \n",
    "        url4 = 'https://fantasy.premierleague.com/api/entry/' + str(teamId) + '/event/' + str(thisGw) + '/picks/'\n",
    "        r4 = requests.get(url4)\n",
    "        json4 = r4.json()\n",
    "        picks_df = pd.DataFrame(json4['picks'])\n",
    "\n",
    "        spillerListeOrg = picks_df[['element', 'multiplier', 'is_captain', 'is_vice_captain']]\n",
    "        \n",
    "        spillerListeOrg['byttet_inn'] = False\n",
    "        spillerListeOrg['byttet_ut'] = False\n",
    "        spillerListe = spillerListeOrg.copy()\n",
    "        \n",
    "\n",
    "        minDef = 3\n",
    "        minMid = 2\n",
    "        minAtt = 1\n",
    "\n",
    "        countGk = 0\n",
    "        countDef = 0\n",
    "        countMid = 0\n",
    "        countAtt = 0\n",
    "\n",
    "        gk = 1\n",
    "        defs = 2\n",
    "        mids = 3\n",
    "        atts = 4\n",
    "\n",
    "        keeperbytte = spillerListe.iat[11, 0]\n",
    "\n",
    "        for obj in spillerListe['element'][0:11]:\n",
    "            starter = obj\n",
    "            spillerpos = teams.at[starter, 'element_type']\n",
    "            spilteIkke = didNotPlay(starter)\n",
    "\n",
    "            if not spilteIkke:\n",
    "                if spillerpos == gk:\n",
    "                    countGk += 1\n",
    "                if spillerpos == defs:\n",
    "                    countDef += 1\n",
    "                if spillerpos == mids:\n",
    "                    countMid += 1\n",
    "                if spillerpos == atts:\n",
    "                    countAtt += 1\n",
    "\n",
    "        for i in range(len(spillerListe[0:11])):\n",
    "            if (countGk + countDef + countMid + countAtt) == 11:\n",
    "                break\n",
    "            \n",
    "            starter = spillerListe.iat[i,0]\n",
    "            spilteIkke = didNotPlay(starter)\n",
    "            spillerpos = teams.at[starter, 'element_type']\n",
    "\n",
    "            erKaptein = spillerListe.iat[i, 2]\n",
    "\n",
    "            # sjekke kaptein\n",
    "            if spilteIkke and erKaptein:\n",
    "                spillerListe.loc[spillerListe['is_vice_captain'] == True, 'multiplier'] = spillerListe.iat[i, 1]\n",
    "                spillerListe.iat[i, 1] = 0\n",
    "\n",
    "            # keeperbytte\n",
    "            if spillerpos == gk and spilteIkke:\n",
    "                spillerListe.iat[i,1] = 0\n",
    "                if not didNotPlay(keeperbytte):\n",
    "                    spillerListe.iat[i, 0], spillerListe.iat[11, 0] = spillerListe.iat[11, 0], spillerListe.iat[i, 0]\n",
    "                    spillerListe.iat[i,1] = 1\n",
    "                    spillerListe.at[i, 'byttet_inn'] = True\n",
    "                    spillerListe.at[11, 'byttet_ut'] = True\n",
    "                    countGk += 1\n",
    "                else:\n",
    "                    countGk += 1\n",
    "                    \n",
    "            # bytte fra benken\n",
    "            if spillerpos != gk and spilteIkke:\n",
    "                \n",
    "                spillerListe.iat[i,1] = 0\n",
    "                byttet = False\n",
    "\n",
    "                for j in range (len(spillerListe[12:15])):\n",
    "                    if didNotPlay(spillerListe[12:15].iat[j,0]):\n",
    "                        continue\n",
    "                    \n",
    "                    innbytterPos = teams.at[spillerListe[12:15].iat[j,0], 'element_type']\n",
    "\n",
    "                    if countDef >= minDef and countMid >= minMid and countAtt >= minAtt:\n",
    "                        spillerListe.iat[i,0], spillerListe[12:15].iat[j,0] = spillerListe[12:15].iat[j,0], spillerListe.iat[i,0] \n",
    "                        spillerListe.iat[i,1] = 1\n",
    "\n",
    "                        spillerListe.at[i, 'byttet_inn'] = True\n",
    "                        spillerListe.at[j + 12, 'byttet_ut'] = True\n",
    "\n",
    "                        if innbytterPos == defs:\n",
    "                            countDef += 1\n",
    "                        if innbytterPos == mids:\n",
    "                            countMid += 1\n",
    "                        if innbytterPos == atts:\n",
    "                            countAtt += 1\n",
    "                        byttet = True\n",
    "                        break           \n",
    "                            \n",
    "                    if countDef < minDef and innbytterPos == defs:\n",
    "                        spillerListe.iat[i,0], spillerListe[12:15].iat[j,0] = spillerListe[12:15].iat[j,0], spillerListe.iat[i,0]\n",
    "                        spillerListe.iat[i,1] = 1\n",
    "                        spillerListe.at[i, 'byttet_inn'] = True\n",
    "                        spillerListe.at[j + 12, 'byttet_ut'] = True\n",
    "\n",
    "                        countDef += 1\n",
    "                        byttet = True\n",
    "                        break\n",
    "\n",
    "                    if countMid < minMid and innbytterPos == mids:\n",
    "                        spillerListe.iat[i,0], spillerListe[12:15].iat[j,0] = spillerListe[12:15].iat[j,0], spillerListe.iat[i,0]\n",
    "                        spillerListe.iat[i,1] = 1\n",
    "                        spillerListe.at[i, 'byttet_inn'] = True\n",
    "                        spillerListe.at[j + 12, 'byttet_ut'] = True                       \n",
    "                        countMid += 1\n",
    "                        byttet = True\n",
    "                        break\n",
    "\n",
    "                    if countAtt < minAtt and innbytterPos == atts:\n",
    "                        spillerListe.iat[i,0], spillerListe[12:15].iat[j,0] = spillerListe[12:15].iat[j,0], spillerListe.iat[i,0]\n",
    "                        spillerListe.iat[i,1] = 1\n",
    "                        spillerListe.at[i, 'byttet_inn'] = True\n",
    "                        spillerListe.at[j + 12, 'byttet_ut'] = True\n",
    "                        countAtt += 1\n",
    "                        byttet = True\n",
    "                        break\n",
    "                    \n",
    "                if byttet == False:\n",
    "                    if spillerpos == defs:\n",
    "                        countDef += 1\n",
    "                    if spillerpos == mids:\n",
    "                        countMid += 1\n",
    "                    if spillerpos == atts:\n",
    "                        countAtt += 1\n",
    "        \n",
    "        navn = []\n",
    "        for spiller in spillerListe['element']:\n",
    "            navn.append(getPlayerName(spiller))\n",
    "\n",
    "        spillerListe['navn'] = navn\n",
    "                    \n",
    "        return spillerListe[['element', 'multiplier', 'navn', 'byttet_inn', 'byttet_ut']]\n",
    "                \n",
    "\n",
    "    def getBonusLists():\n",
    "        liste = []\n",
    "        elements = pd.DataFrame()\n",
    "        url = 'https://fantasy.premierleague.com/api/fixtures/?event=' + str(thisGw)\n",
    "        r = requests.get(url)\n",
    "        json = r.json()\n",
    "        fixtures_df = pd.DataFrame(json)\n",
    "        \n",
    "        now = datetime.utcnow()\n",
    "        for i in range (len(fixtures_df)):\n",
    "            gameStart = fixtures_df.at[i, 'kickoff_time']\n",
    "            gameStart = datetime.strptime(gameStart, \"%Y-%m-%dT%H:%M:%SZ\")\n",
    "            played60 = gameStart + timedelta(minutes = 79)\n",
    "            if now > played60:\n",
    "                try:\n",
    "                    stats_df = pd.DataFrame(fixtures_df['stats'].iloc[i])\n",
    "                    stats_a = pd.DataFrame(stats_df.loc[9,'a'])\n",
    "                    stats_h = pd.DataFrame(stats_df.loc[9,'h'])\n",
    "                    samlet = stats_a.append(stats_h)\n",
    "                    sort = samlet.sort_values(by=['value'], ascending=False)\n",
    "                    ferdig = sort.reset_index(drop=True)\n",
    "                    bps = ferdig[0:8].copy()\n",
    "                    elements = elements.append(bps, ignore_index = True, sort = False)\n",
    "                    \n",
    "                    first = False\n",
    "                    second = False\n",
    "                    third = False\n",
    "                    count = 0\n",
    "                    for j in range(len(bps)):\n",
    "                        if first == False:\n",
    "                            try:\n",
    "                                if (bps.iat[j,0] == bps.iat[j+1,0]):\n",
    "                                    liste.append(3)\n",
    "                                    count += 1\n",
    "                                elif (bps.iat[j,0] != bps.iat[j+1,0]):\n",
    "                                    liste.append(3)\n",
    "                                    count += 1\n",
    "                                    first = True\n",
    "                            except:\n",
    "                                pass\n",
    "\n",
    "                        elif second == False and count <= 1:\n",
    "                            try:\n",
    "                                if (bps.iat[j,0] == bps.iat[j+1,0]):\n",
    "                                    liste.append(2)\n",
    "                                    count -= 1\n",
    "                                elif (bps.iat[j,0] != bps.iat[j+1,0]):\n",
    "                                    liste.append(2)\n",
    "                                    count += 1\n",
    "                                    second = True\n",
    "                            except:\n",
    "                                pass\n",
    "\n",
    "                        elif third == False and count == 2:\n",
    "                            try:\n",
    "                                if (bps.iat[j,0] == bps.iat[j+1,0]):\n",
    "                                    liste.append(1)\n",
    "                                elif (bps.iat[j,0] != bps.iat[j+1,0]):\n",
    "                                    liste.append(1)\n",
    "                                    third = True\n",
    "                            except:\n",
    "                                pass\n",
    "                        else:\n",
    "                            liste.append(0)\n",
    "                except:\n",
    "                    pass\n",
    "        try:\n",
    "            elements['bonus'] = liste\n",
    "            return elements.set_index('element', inplace=False)['bonus']\n",
    "        except:\n",
    "            return []\n",
    "\n",
    "    bonuspoints = getBonusLists()\n",
    "\n",
    "    def getLiveBonusList(teamId):\n",
    "        picks = getAutoSubs(teamId)\n",
    "        bonusPoeng = []\n",
    "        for ids in picks['element']:\n",
    "            try:\n",
    "                bonusPoeng.append(sum(bonuspoints.at[ids]))\n",
    "            except:\n",
    "                try:\n",
    "                    bonusPoeng.append(bonuspoints.at[ids])\n",
    "                except:\n",
    "                    bonusPoeng.append(0)\n",
    "            \n",
    "        return bonusPoeng\n",
    "\n",
    "    def getAllPlayerList():\n",
    "        url = 'https://fantasy.premierleague.com/api/event/' + str(thisGw) + '/live/'\n",
    "        r = requests.get(url)\n",
    "        json = r.json()\n",
    "        liveElements_df = pd.DataFrame(json['elements'])\n",
    "        liveId = liveElements_df['id']\n",
    "        stats_df = pd.DataFrame(liveElements_df['stats'].values.tolist())\n",
    "        liveTotPoints_df = pd.DataFrame(stats_df[['total_points', 'bonus']])\n",
    "        liveTotPoints_df.insert(0,'id', liveId, True)\n",
    "        return liveTotPoints_df\n",
    "\n",
    "    liveTotPoints = getAllPlayerList()\n",
    "\n",
    "    def getLivePlayerPoints(teamId):\n",
    "        slim_picks = getAutoSubs(teamId)\n",
    "        \n",
    "        slim_picks['live_bonus'] = getLiveBonusList(teamId)\n",
    "        \n",
    "        poeng = []\n",
    "        for i in range(len(slim_picks)):\n",
    "            tempId = slim_picks.at[i,'element']\n",
    "            poeng.append((liveTotPoints.iat[tempId - 1, 1] + slim_picks.at[i, 'live_bonus'] - \n",
    "                    liveTotPoints.iat[tempId - 1, 2]) * slim_picks.at[i, 'multiplier'])\n",
    "            \n",
    "        return poeng\n",
    "\n",
    "    def getPointsAndPlayers(teamId):\n",
    "        tabell = getAutoSubs(teamId)\n",
    "        poeng = getLivePlayerPoints(teamId)\n",
    "\n",
    "        tabell['points'] = poeng\n",
    "\n",
    "        posisjon = []\n",
    "        photo = []\n",
    "        for player in tabell['element']:\n",
    "            posisjon.append(teams.at[player, 'element_type'])\n",
    "            photo.append(names.at[player, 'code'])\n",
    "\n",
    "        tabell['pos'] = posisjon\n",
    "        tabell['photo'f] = photo\n",
    "\n",
    "        liveInfo = []\n",
    "        for player in tabell['element']:\n",
    "            liveInfo.append(getPlayerInfo(player))\n",
    "        \n",
    "        tabell['live'] = liveInfo\n",
    "\n",
    "        return tabell[['navn', 'points', 'pos', 'photo', 'multiplier', 'byttet_inn', 'byttet_ut', 'live']]\n",
    "    \n",
    "\n",
    "    data = getPointsAndPlayers(3378570)\n",
    "    data = data.to_dict(orient=\"records\")"
   ]
  },
  {
   "cell_type": "code",
   "execution_count": 248,
   "metadata": {},
   "outputs": [
    {
     "output_type": "stream",
     "name": "stdout",
     "text": [
      "minutes\n"
     ]
    }
   ],
   "source": [
    "for player in data[0:11]:\n",
    "    if player['pos'] == 1:     \n",
    "        for info in player['live']:\n",
    "            print(info['identifier'])"
   ]
  },
  {
   "cell_type": "code",
   "execution_count": 245,
   "metadata": {},
   "outputs": [
    {
     "output_type": "execute_result",
     "data": {
      "text/plain": [
       "[{'navn': 'McCarthy',\n",
       "  'points': 0,\n",
       "  'pos': 1,\n",
       "  'photo': 58376,\n",
       "  'multiplier': 1,\n",
       "  'byttet_inn': False,\n",
       "  'byttet_ut': False,\n",
       "  'live': [{'identifier': 'minutes', 'points': 0, 'value': 0}]},\n",
       " {'navn': 'Dias',\n",
       "  'points': 6,\n",
       "  'pos': 2,\n",
       "  'photo': 171314,\n",
       "  'multiplier': 1,\n",
       "  'byttet_inn': False,\n",
       "  'byttet_ut': False,\n",
       "  'live': [{'identifier': 'minutes', 'points': 2, 'value': 74},\n",
       "   {'identifier': 'clean_sheets', 'points': 4, 'value': 1}]},\n",
       " {'navn': 'Stones',\n",
       "  'points': 14,\n",
       "  'pos': 2,\n",
       "  'photo': 97299,\n",
       "  'multiplier': 1,\n",
       "  'byttet_inn': False,\n",
       "  'byttet_ut': False,\n",
       "  'live': [{'identifier': 'minutes', 'points': 2, 'value': 90},\n",
       "   {'identifier': 'goals_scored', 'points': 6, 'value': 1},\n",
       "   {'identifier': 'clean_sheets', 'points': 4, 'value': 1},\n",
       "   {'identifier': 'bonus', 'points': 2, 'value': 2}]},\n",
       " {'navn': 'El Mohamady',\n",
       "  'points': 2,\n",
       "  'pos': 2,\n",
       "  'photo': 37339,\n",
       "  'multiplier': 1,\n",
       "  'byttet_inn': False,\n",
       "  'byttet_ut': False,\n",
       "  'live': [{'identifier': 'minutes', 'points': 2, 'value': 90}]},\n",
       " {'navn': 'Targett',\n",
       "  'points': 4,\n",
       "  'pos': 2,\n",
       "  'photo': 169359,\n",
       "  'multiplier': 1,\n",
       "  'byttet_inn': False,\n",
       "  'byttet_ut': False,\n",
       "  'live': [{'identifier': 'minutes', 'points': 2, 'value': 90},\n",
       "   {'identifier': 'bonus', 'points': 2, 'value': 2}]},\n",
       " {'navn': 'Son',\n",
       "  'points': 0,\n",
       "  'pos': 3,\n",
       "  'photo': 85971,\n",
       "  'multiplier': 1,\n",
       "  'byttet_inn': False,\n",
       "  'byttet_ut': False,\n",
       "  'live': [{'identifier': 'minutes', 'points': 0, 'value': 0}]},\n",
       " {'navn': 'Fernandes',\n",
       "  'points': 0,\n",
       "  'pos': 3,\n",
       "  'photo': 141746,\n",
       "  'multiplier': 2,\n",
       "  'byttet_inn': False,\n",
       "  'byttet_ut': False,\n",
       "  'live': [{'identifier': 'minutes', 'points': 0, 'value': 0}]},\n",
       " {'navn': 'Raphinha',\n",
       "  'points': 3,\n",
       "  'pos': 3,\n",
       "  'photo': 219961,\n",
       "  'multiplier': 1,\n",
       "  'byttet_inn': True,\n",
       "  'byttet_ut': False,\n",
       "  'live': [{'identifier': 'minutes', 'points': 2, 'value': 90},\n",
       "   {'identifier': 'clean_sheets', 'points': 1, 'value': 1}]},\n",
       " {'navn': 'Jota',\n",
       "  'points': 0,\n",
       "  'pos': 3,\n",
       "  'photo': 194634,\n",
       "  'multiplier': 1,\n",
       "  'byttet_inn': False,\n",
       "  'byttet_ut': False,\n",
       "  'live': [{'identifier': 'minutes', 'points': 0, 'value': 0}]},\n",
       " {'navn': 'Calvert-Lewin',\n",
       "  'points': 6,\n",
       "  'pos': 4,\n",
       "  'photo': 177815,\n",
       "  'multiplier': 1,\n",
       "  'byttet_inn': False,\n",
       "  'byttet_ut': False,\n",
       "  'live': [{'identifier': 'minutes', 'points': 2, 'value': 90},\n",
       "   {'identifier': 'goals_scored', 'points': 4, 'value': 1}]},\n",
       " {'navn': 'Watkins',\n",
       "  'points': 5,\n",
       "  'pos': 4,\n",
       "  'photo': 178301,\n",
       "  'multiplier': 1,\n",
       "  'byttet_inn': False,\n",
       "  'byttet_ut': False,\n",
       "  'live': [{'identifier': 'minutes', 'points': 2, 'value': 90},\n",
       "   {'identifier': 'assists', 'points': 3, 'value': 1}]},\n",
       " {'navn': 'Peacock-Farrell',\n",
       "  'points': 0,\n",
       "  'pos': 1,\n",
       "  'photo': 220037,\n",
       "  'multiplier': 0,\n",
       "  'byttet_inn': False,\n",
       "  'byttet_ut': False,\n",
       "  'live': [{'identifier': 'minutes', 'points': 0, 'value': 0}]},\n",
       " {'navn': 'De Bruyne',\n",
       "  'points': 0,\n",
       "  'pos': 3,\n",
       "  'photo': 61366,\n",
       "  'multiplier': 0,\n",
       "  'byttet_inn': False,\n",
       "  'byttet_ut': True,\n",
       "  'live': [{'identifier': 'minutes', 'points': 0, 'value': 0}]},\n",
       " {'navn': 'Bamford',\n",
       "  'points': 0,\n",
       "  'pos': 4,\n",
       "  'photo': 106617,\n",
       "  'multiplier': 0,\n",
       "  'byttet_inn': False,\n",
       "  'byttet_ut': False,\n",
       "  'live': [{'identifier': 'minutes', 'points': 1, 'value': 34}]},\n",
       " {'navn': 'Coufal',\n",
       "  'points': 0,\n",
       "  'pos': 2,\n",
       "  'photo': 164555,\n",
       "  'multiplier': 0,\n",
       "  'byttet_inn': False,\n",
       "  'byttet_ut': False,\n",
       "  'live': [{'identifier': 'minutes', 'points': 0, 'value': 0}]}]"
      ]
     },
     "metadata": {},
     "execution_count": 245
    }
   ],
   "source": [
    "data"
   ]
  },
  {
   "cell_type": "code",
   "execution_count": 21,
   "metadata": {},
   "outputs": [
    {
     "output_type": "execute_result",
     "data": {
      "text/plain": [
       "[{'navn': 'McCarthy', 'points': 0, 'pos': 1, 'photo': 58376},\n",
       " {'navn': 'Dias', 'points': 0, 'pos': 2, 'photo': 171314},\n",
       " {'navn': 'Stones', 'points': 0, 'pos': 2, 'photo': 97299},\n",
       " {'navn': 'Coufal', 'points': 0, 'pos': 2, 'photo': 164555},\n",
       " {'navn': 'Targett', 'points': 0, 'pos': 2, 'photo': 169359},\n",
       " {'navn': 'Son', 'points': 0, 'pos': 3, 'photo': 85971},\n",
       " {'navn': 'Fernandes', 'points': 0, 'pos': 3, 'photo': 141746},\n",
       " {'navn': 'Rashford', 'points': 0, 'pos': 3, 'photo': 176297},\n",
       " {'navn': 'Sterling', 'points': 0, 'pos': 3, 'photo': 103955},\n",
       " {'navn': 'Bamford', 'points': 0, 'pos': 4, 'photo': 106617},\n",
       " {'navn': 'Calvert-Lewin', 'points': 0, 'pos': 4, 'photo': 177815},\n",
       " {'navn': 'Peacock-Farrell', 'points': 0, 'pos': 1, 'photo': 220037},\n",
       " {'navn': 'Raphinha', 'points': 0, 'pos': 3, 'photo': 219961},\n",
       " {'navn': 'El Mohamady', 'points': 0, 'pos': 2, 'photo': 37339},\n",
       " {'navn': 'Watkins', 'points': 0, 'pos': 4, 'photo': 178301}]"
      ]
     },
     "metadata": {},
     "execution_count": 21
    }
   ],
   "source": [
    "data"
   ]
  },
  {
   "cell_type": "code",
   "execution_count": 40,
   "metadata": {},
   "outputs": [],
   "source": [
    "def test():\n",
    "\n",
    "    for dic in data: \n",
    "        if dic[\"pos\"] == 1:\n",
    "            return (dic[\"navn\"])"
   ]
  },
  {
   "cell_type": "code",
   "execution_count": 41,
   "metadata": {},
   "outputs": [
    {
     "output_type": "execute_result",
     "data": {
      "text/plain": [
       "'McCarthy'"
      ]
     },
     "metadata": {},
     "execution_count": 41
    }
   ],
   "source": [
    "test()"
   ]
  },
  {
   "cell_type": "code",
   "execution_count": 106,
   "metadata": {},
   "outputs": [
    {
     "output_type": "execute_result",
     "data": {
      "text/plain": [
       "dict_values(['McCarthy', 0, 1, 58376])"
      ]
     },
     "metadata": {},
     "execution_count": 106
    }
   ],
   "source": [
    "data"
   ]
  },
  {
   "cell_type": "code",
   "execution_count": 26,
   "metadata": {},
   "outputs": [],
   "source": [
    "a_dict = [{'color': 'blue', 'fruit': 'apple', 'pet': 'dog'}, \n",
    "{'frag': 'nlå', 'frfsat': 'apdsadsaple', 'pdsasdaet': 'ddsqdsog'}]"
   ]
  },
  {
   "cell_type": "code",
   "execution_count": 33,
   "metadata": {},
   "outputs": [
    {
     "output_type": "error",
     "ename": "NameError",
     "evalue": "name 'color' is not defined",
     "traceback": [
      "\u001b[0;31m---------------------------------------------------------------------------\u001b[0m",
      "\u001b[0;31mNameError\u001b[0m                                 Traceback (most recent call last)",
      "\u001b[0;32m<ipython-input-33-2690055947c7>\u001b[0m in \u001b[0;36m<module>\u001b[0;34m\u001b[0m\n\u001b[1;32m      1\u001b[0m \u001b[0;32mfor\u001b[0m \u001b[0mkey\u001b[0m \u001b[0;32min\u001b[0m \u001b[0ma_dict\u001b[0m\u001b[0;34m:\u001b[0m\u001b[0;34m\u001b[0m\u001b[0;34m\u001b[0m\u001b[0m\n\u001b[1;32m      2\u001b[0m     \u001b[0;32mfor\u001b[0m \u001b[0ml\u001b[0m \u001b[0;32min\u001b[0m \u001b[0mkey\u001b[0m\u001b[0;34m:\u001b[0m\u001b[0;34m\u001b[0m\u001b[0;34m\u001b[0m\u001b[0m\n\u001b[0;32m----> 3\u001b[0;31m         \u001b[0mprint\u001b[0m\u001b[0;34m(\u001b[0m\u001b[0ml\u001b[0m\u001b[0;34m,\u001b[0m \u001b[0;34m'->'\u001b[0m\u001b[0;34m,\u001b[0m \u001b[0mcolor\u001b[0m\u001b[0;34m)\u001b[0m\u001b[0;34m\u001b[0m\u001b[0;34m\u001b[0m\u001b[0m\n\u001b[0m",
      "\u001b[0;31mNameError\u001b[0m: name 'color' is not defined"
     ]
    }
   ],
   "source": [
    "for key in a_dict:\n",
    "    for l in key:\n",
    "        print(l, '->', color)"
   ]
  },
  {
   "cell_type": "code",
   "execution_count": 132,
   "metadata": {},
   "outputs": [
    {
     "output_type": "stream",
     "name": "stdout",
     "text": [
      "1\n2\n3\n"
     ]
    }
   ],
   "source": [
    "dict = {\n",
    "    'value1': 1,\n",
    "    'value2': 2,\n",
    "    'value3': 3\n",
    "}\n",
    "for key, value in dict.items():\n",
    "    print(value)"
   ]
  },
  {
   "cell_type": "code",
   "execution_count": null,
   "metadata": {},
   "outputs": [],
   "source": []
  },
  {
   "cell_type": "code",
   "execution_count": null,
   "metadata": {},
   "outputs": [],
   "source": []
  },
  {
   "cell_type": "code",
   "execution_count": null,
   "metadata": {},
   "outputs": [],
   "source": []
  },
  {
   "cell_type": "code",
   "execution_count": null,
   "metadata": {},
   "outputs": [],
   "source": []
  },
  {
   "cell_type": "code",
   "execution_count": null,
   "metadata": {},
   "outputs": [],
   "source": []
  },
  {
   "cell_type": "code",
   "execution_count": null,
   "metadata": {},
   "outputs": [],
   "source": []
  },
  {
   "cell_type": "code",
   "execution_count": null,
   "metadata": {},
   "outputs": [],
   "source": []
  },
  {
   "cell_type": "code",
   "execution_count": null,
   "metadata": {},
   "outputs": [],
   "source": []
  },
  {
   "cell_type": "code",
   "execution_count": 16,
   "metadata": {},
   "outputs": [],
   "source": [
    "tall = [49, 49, 23, 20, 21, 19]"
   ]
  },
  {
   "cell_type": "code",
   "execution_count": 17,
   "metadata": {},
   "outputs": [],
   "source": [
    "def bonusListe(liste):\n",
    "    ferdig = []\n",
    "    bonus = 3\n",
    "    for i in range (len(liste)-1):\n",
    "        if liste[i] == liste[i+1]:\n",
    "            ferdig.append(bonus)\n",
    "        else:\n",
    "            ferdig.append(bonus)\n",
    "            bonus -= 1\n",
    "    return ferdig\n"
   ]
  },
  {
   "cell_type": "code",
   "execution_count": 18,
   "metadata": {},
   "outputs": [
    {
     "output_type": "execute_result",
     "data": {
      "text/plain": [
       "[3, 3, 2, 1, 0]"
      ]
     },
     "metadata": {},
     "execution_count": 18
    }
   ],
   "source": [
    "bonusListe(tall)"
   ]
  },
  {
   "cell_type": "code",
   "execution_count": 40,
   "metadata": {},
   "outputs": [],
   "source": [
    "url4 = 'https://fantasy.premierleague.com/api/entry/3392596/event/27/picks/'\n",
    "r4 = requests.get(url4)\n",
    "json4 = r4.json()\n",
    "picks_df = pd.DataFrame(json4['picks'])\n",
    "\n",
    "spillerListeOrg = picks_df[['element', 'multiplier', 'is_captain', 'is_vice_captain']]\n",
    "\n",
    "spillerListeOrg['byttet_inn'] = False\n",
    "spillerListeOrg['byttet_ut'] = False\n",
    "spillerListe = spillerListeOrg.copy()"
   ]
  },
  {
   "cell_type": "code",
   "execution_count": 46,
   "metadata": {},
   "outputs": [],
   "source": [
    "spillerListe.at[0, 'byttet_inn'] = True\n",
    "spillerListe.at[4, 'byttet_inn'] = True\n",
    "spillerListe.at[4, 'byttet_ut'] = True"
   ]
  },
  {
   "cell_type": "code",
   "execution_count": 47,
   "metadata": {},
   "outputs": [
    {
     "output_type": "execute_result",
     "data": {
      "text/plain": [
       "    element  multiplier  is_captain  is_vice_captain  byttet_inn  byttet_ut\n",
       "0        96           1       False            False        True      False\n",
       "1       300           1       False            False       False      False\n",
       "2       277           1       False            False       False      False\n",
       "3       556           1       False            False       False      False\n",
       "4       271           1       False             True        True       True\n",
       "5       390           2        True            False       False      False\n",
       "6       302           1       False            False       False      False\n",
       "7       254           1       False            False       False      False\n",
       "8       514           1       False            False       False      False\n",
       "9       437           1       False            False       False      False\n",
       "10      202           1       False            False       False      False\n",
       "11      363           0       False            False       False      False\n",
       "12      570           0       False            False       False      False\n",
       "13      435           0       False            False       False      False\n",
       "14      200           0       False            False       False      False"
      ],
      "text/html": "<div>\n<style scoped>\n    .dataframe tbody tr th:only-of-type {\n        vertical-align: middle;\n    }\n\n    .dataframe tbody tr th {\n        vertical-align: top;\n    }\n\n    .dataframe thead th {\n        text-align: right;\n    }\n</style>\n<table border=\"1\" class=\"dataframe\">\n  <thead>\n    <tr style=\"text-align: right;\">\n      <th></th>\n      <th>element</th>\n      <th>multiplier</th>\n      <th>is_captain</th>\n      <th>is_vice_captain</th>\n      <th>byttet_inn</th>\n      <th>byttet_ut</th>\n    </tr>\n  </thead>\n  <tbody>\n    <tr>\n      <th>0</th>\n      <td>96</td>\n      <td>1</td>\n      <td>False</td>\n      <td>False</td>\n      <td>True</td>\n      <td>False</td>\n    </tr>\n    <tr>\n      <th>1</th>\n      <td>300</td>\n      <td>1</td>\n      <td>False</td>\n      <td>False</td>\n      <td>False</td>\n      <td>False</td>\n    </tr>\n    <tr>\n      <th>2</th>\n      <td>277</td>\n      <td>1</td>\n      <td>False</td>\n      <td>False</td>\n      <td>False</td>\n      <td>False</td>\n    </tr>\n    <tr>\n      <th>3</th>\n      <td>556</td>\n      <td>1</td>\n      <td>False</td>\n      <td>False</td>\n      <td>False</td>\n      <td>False</td>\n    </tr>\n    <tr>\n      <th>4</th>\n      <td>271</td>\n      <td>1</td>\n      <td>False</td>\n      <td>True</td>\n      <td>True</td>\n      <td>True</td>\n    </tr>\n    <tr>\n      <th>5</th>\n      <td>390</td>\n      <td>2</td>\n      <td>True</td>\n      <td>False</td>\n      <td>False</td>\n      <td>False</td>\n    </tr>\n    <tr>\n      <th>6</th>\n      <td>302</td>\n      <td>1</td>\n      <td>False</td>\n      <td>False</td>\n      <td>False</td>\n      <td>False</td>\n    </tr>\n    <tr>\n      <th>7</th>\n      <td>254</td>\n      <td>1</td>\n      <td>False</td>\n      <td>False</td>\n      <td>False</td>\n      <td>False</td>\n    </tr>\n    <tr>\n      <th>8</th>\n      <td>514</td>\n      <td>1</td>\n      <td>False</td>\n      <td>False</td>\n      <td>False</td>\n      <td>False</td>\n    </tr>\n    <tr>\n      <th>9</th>\n      <td>437</td>\n      <td>1</td>\n      <td>False</td>\n      <td>False</td>\n      <td>False</td>\n      <td>False</td>\n    </tr>\n    <tr>\n      <th>10</th>\n      <td>202</td>\n      <td>1</td>\n      <td>False</td>\n      <td>False</td>\n      <td>False</td>\n      <td>False</td>\n    </tr>\n    <tr>\n      <th>11</th>\n      <td>363</td>\n      <td>0</td>\n      <td>False</td>\n      <td>False</td>\n      <td>False</td>\n      <td>False</td>\n    </tr>\n    <tr>\n      <th>12</th>\n      <td>570</td>\n      <td>0</td>\n      <td>False</td>\n      <td>False</td>\n      <td>False</td>\n      <td>False</td>\n    </tr>\n    <tr>\n      <th>13</th>\n      <td>435</td>\n      <td>0</td>\n      <td>False</td>\n      <td>False</td>\n      <td>False</td>\n      <td>False</td>\n    </tr>\n    <tr>\n      <th>14</th>\n      <td>200</td>\n      <td>0</td>\n      <td>False</td>\n      <td>False</td>\n      <td>False</td>\n      <td>False</td>\n    </tr>\n  </tbody>\n</table>\n</div>"
     },
     "metadata": {},
     "execution_count": 47
    }
   ],
   "source": [
    "spillerListe"
   ]
  },
  {
   "cell_type": "code",
   "execution_count": 40,
   "metadata": {},
   "outputs": [],
   "source": [
    "navn = \"Vegard Vestvik\"\n",
    "\n",
    "def getFornavn(navn):\n",
    "    for i in range (len(navn[::-1])):\n",
    "        if (navn[i::-1]) == any(\" \"):\n",
    "            return navn[i::]\n"
   ]
  },
  {
   "cell_type": "code",
   "execution_count": 41,
   "metadata": {},
   "outputs": [],
   "source": [
    "getFornavn(navn)"
   ]
  },
  {
   "cell_type": "code",
   "execution_count": 36,
   "metadata": {},
   "outputs": [
    {
     "output_type": "execute_result",
     "data": {
      "text/plain": [
       "'ageV'"
      ]
     },
     "metadata": {},
     "execution_count": 36
    }
   ],
   "source": [
    "navn[3::-1]"
   ]
  },
  {
   "cell_type": "code",
   "execution_count": 49,
   "metadata": {},
   "outputs": [
    {
     "output_type": "execute_result",
     "data": {
      "text/plain": [
       "'seV drageV'"
      ]
     },
     "metadata": {},
     "execution_count": 49
    }
   ],
   "source": [
    "navn[9::1]"
   ]
  },
  {
   "cell_type": "code",
   "execution_count": null,
   "metadata": {},
   "outputs": [],
   "source": []
  }
 ]
}