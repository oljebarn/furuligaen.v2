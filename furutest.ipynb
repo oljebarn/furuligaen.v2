{
 "metadata": {
  "language_info": {
   "codemirror_mode": {
    "name": "ipython",
    "version": 3
   },
   "file_extension": ".py",
   "mimetype": "text/x-python",
   "name": "python",
   "nbconvert_exporter": "python",
   "pygments_lexer": "ipython3",
   "version": "3.9.0-final"
  },
  "orig_nbformat": 2,
  "kernelspec": {
   "name": "python3",
   "display_name": "Python 3",
   "language": "python"
  }
 },
 "nbformat": 4,
 "nbformat_minor": 2,
 "cells": [
  {
   "cell_type": "code",
   "execution_count": 15,
   "metadata": {},
   "outputs": [],
   "source": [
    "import requests\n",
    "import pandas as pd\n"
   ]
  },
  {
   "cell_type": "code",
   "execution_count": null,
   "metadata": {},
   "outputs": [],
   "source": []
  },
  {
   "cell_type": "code",
   "execution_count": 296,
   "metadata": {},
   "outputs": [],
   "source": [
    "url = 'https://fantasy.premierleague.com/api/entry/3378570/transfers/'\n",
    "r = requests.get(url)\n",
    "json = r.json()\n",
    "trans = pd.DataFrame(json)"
   ]
  },
  {
   "cell_type": "code",
   "execution_count": 318,
   "metadata": {},
   "outputs": [],
   "source": [
    "trans = trans.set_index('event')"
   ]
  },
  {
   "cell_type": "code",
   "execution_count": 319,
   "metadata": {},
   "outputs": [
    {
     "output_type": "execute_result",
     "data": {
      "text/plain": [
       "       element_in  element_in_cost  element_out  element_out_cost    entry  \\\n",
       "event                                                                        \n",
       "23            104               56          232                58  3378570   \n",
       "22            306               95          284                62  3378570   \n",
       "22            506               67          303                87  3378570   \n",
       "20            273               51          255                72  3378570   \n",
       "19            284               63          445                63  3378570   \n",
       "\n",
       "                              time  \n",
       "event                               \n",
       "23     2021-02-05T23:32:02.459212Z  \n",
       "22     2021-02-02T16:28:42.885177Z  \n",
       "22     2021-02-02T16:28:42.878609Z  \n",
       "20     2021-01-26T15:08:08.010761Z  \n",
       "19     2021-01-15T15:44:47.914255Z  "
      ],
      "text/html": "<div>\n<style scoped>\n    .dataframe tbody tr th:only-of-type {\n        vertical-align: middle;\n    }\n\n    .dataframe tbody tr th {\n        vertical-align: top;\n    }\n\n    .dataframe thead th {\n        text-align: right;\n    }\n</style>\n<table border=\"1\" class=\"dataframe\">\n  <thead>\n    <tr style=\"text-align: right;\">\n      <th></th>\n      <th>element_in</th>\n      <th>element_in_cost</th>\n      <th>element_out</th>\n      <th>element_out_cost</th>\n      <th>entry</th>\n      <th>time</th>\n    </tr>\n    <tr>\n      <th>event</th>\n      <th></th>\n      <th></th>\n      <th></th>\n      <th></th>\n      <th></th>\n      <th></th>\n    </tr>\n  </thead>\n  <tbody>\n    <tr>\n      <th>23</th>\n      <td>104</td>\n      <td>56</td>\n      <td>232</td>\n      <td>58</td>\n      <td>3378570</td>\n      <td>2021-02-05T23:32:02.459212Z</td>\n    </tr>\n    <tr>\n      <th>22</th>\n      <td>306</td>\n      <td>95</td>\n      <td>284</td>\n      <td>62</td>\n      <td>3378570</td>\n      <td>2021-02-02T16:28:42.885177Z</td>\n    </tr>\n    <tr>\n      <th>22</th>\n      <td>506</td>\n      <td>67</td>\n      <td>303</td>\n      <td>87</td>\n      <td>3378570</td>\n      <td>2021-02-02T16:28:42.878609Z</td>\n    </tr>\n    <tr>\n      <th>20</th>\n      <td>273</td>\n      <td>51</td>\n      <td>255</td>\n      <td>72</td>\n      <td>3378570</td>\n      <td>2021-01-26T15:08:08.010761Z</td>\n    </tr>\n    <tr>\n      <th>19</th>\n      <td>284</td>\n      <td>63</td>\n      <td>445</td>\n      <td>63</td>\n      <td>3378570</td>\n      <td>2021-01-15T15:44:47.914255Z</td>\n    </tr>\n  </tbody>\n</table>\n</div>"
     },
     "metadata": {},
     "execution_count": 319
    }
   ],
   "source": [
    "trans.head()"
   ]
  },
  {
   "cell_type": "code",
   "execution_count": 274,
   "metadata": {},
   "outputs": [],
   "source": []
  },
  {
   "cell_type": "code",
   "execution_count": 320,
   "metadata": {},
   "outputs": [
    {
     "output_type": "execute_result",
     "data": {
      "text/plain": [
       "       element_in  element_in_cost  element_out  element_out_cost    entry  \\\n",
       "event                                                                        \n",
       "22            306               95          284                62  3378570   \n",
       "22            506               67          303                87  3378570   \n",
       "\n",
       "                              time  \n",
       "event                               \n",
       "22     2021-02-02T16:28:42.885177Z  \n",
       "22     2021-02-02T16:28:42.878609Z  "
      ],
      "text/html": "<div>\n<style scoped>\n    .dataframe tbody tr th:only-of-type {\n        vertical-align: middle;\n    }\n\n    .dataframe tbody tr th {\n        vertical-align: top;\n    }\n\n    .dataframe thead th {\n        text-align: right;\n    }\n</style>\n<table border=\"1\" class=\"dataframe\">\n  <thead>\n    <tr style=\"text-align: right;\">\n      <th></th>\n      <th>element_in</th>\n      <th>element_in_cost</th>\n      <th>element_out</th>\n      <th>element_out_cost</th>\n      <th>entry</th>\n      <th>time</th>\n    </tr>\n    <tr>\n      <th>event</th>\n      <th></th>\n      <th></th>\n      <th></th>\n      <th></th>\n      <th></th>\n      <th></th>\n    </tr>\n  </thead>\n  <tbody>\n    <tr>\n      <th>22</th>\n      <td>306</td>\n      <td>95</td>\n      <td>284</td>\n      <td>62</td>\n      <td>3378570</td>\n      <td>2021-02-02T16:28:42.885177Z</td>\n    </tr>\n    <tr>\n      <th>22</th>\n      <td>506</td>\n      <td>67</td>\n      <td>303</td>\n      <td>87</td>\n      <td>3378570</td>\n      <td>2021-02-02T16:28:42.878609Z</td>\n    </tr>\n  </tbody>\n</table>\n</div>"
     },
     "metadata": {},
     "execution_count": 320
    }
   ],
   "source": [
    "trans.loc[22]"
   ]
  },
  {
   "cell_type": "code",
   "execution_count": 417,
   "metadata": {},
   "outputs": [],
   "source": [
    "def getTransfers(teamID):\n",
    "    url = 'https://fantasy.premierleague.com/api/entry/'+ str(teamID) + '/transfers/'\n",
    "    r = requests.get(url)\n",
    "    json = r.json()\n",
    "    trans = pd.DataFrame(json).set_index('event')\n",
    "    thisGw = 23\n",
    "    try:\n",
    "        trans = trans.loc[thisGw]\n",
    "        try:\n",
    "            for index, row in trans.iterrows():\n",
    "                print(getPlayerName(row['element_out']) + ' <- ->', getPlayerName(row[\"element_in\"]))\n",
    "        except:\n",
    "            print (getPlayerName(trans.at['element_out']) + ' <- ->', getPlayerName(trans.at['element_in']))\n",
    "    except:\n",
    "        print('Ingen bytter')    \n"
   ]
  },
  {
   "cell_type": "code",
   "execution_count": 418,
   "metadata": {},
   "outputs": [
    {
     "output_type": "stream",
     "name": "stdout",
     "text": [
      "Chilwell <- -> Alonso\n"
     ]
    }
   ],
   "source": [
    "getTransfers(3378570)"
   ]
  },
  {
   "cell_type": "code",
   "execution_count": 419,
   "metadata": {},
   "outputs": [],
   "source": [
    "def getPlayerName(playerID):\n",
    "    return elements.at[playerID, 'web_name']"
   ]
  },
  {
   "cell_type": "code",
   "execution_count": 420,
   "metadata": {},
   "outputs": [
    {
     "output_type": "execute_result",
     "data": {
      "text/plain": [
       "'David Luiz'"
      ]
     },
     "metadata": {},
     "execution_count": 420
    }
   ],
   "source": [
    "getPlayerName(3)"
   ]
  },
  {
   "cell_type": "code",
   "execution_count": 421,
   "metadata": {},
   "outputs": [],
   "source": [
    "url2 = 'https://fantasy.premierleague.com/api/bootstrap-static/'\n",
    "r2 = requests.get(url2)\n",
    "json2 = r2.json()\n",
    "elements = pd.DataFrame(json2['elements']).set_index('id')"
   ]
  },
  {
   "cell_type": "code",
   "execution_count": 407,
   "metadata": {},
   "outputs": [
    {
     "output_type": "error",
     "ename": "SyntaxError",
     "evalue": "invalid syntax (<ipython-input-407-23b826c40431>, line 1)",
     "traceback": [
      "\u001b[0;36m  File \u001b[0;32m\"<ipython-input-407-23b826c40431>\"\u001b[0;36m, line \u001b[0;32m1\u001b[0m\n\u001b[0;31m    getAllTransfers():\u001b[0m\n\u001b[0m                      ^\u001b[0m\n\u001b[0;31mSyntaxError\u001b[0m\u001b[0;31m:\u001b[0m invalid syntax\n"
     ]
    }
   ],
   "source": []
  },
  {
   "cell_type": "code",
   "execution_count": 422,
   "metadata": {},
   "outputs": [],
   "source": [
    "def getAllTransfers():\n",
    "    url = 'https://fantasy.premierleague.com/api/leagues-classic/627607/standings/'\n",
    "    r = requests.get(url)\n",
    "    json = r.json()\n",
    "    teams = pd.DataFrame(json['standings']['results'])\n",
    "    playerid = teams[['player_name', 'entry']]\n",
    "\n",
    "    for i in range(len(playerid)):\n",
    "        print(playerid.at[i, 'player_name'])\n",
    "        getTransfers(playerid.at[i, 'entry'])"
   ]
  },
  {
   "cell_type": "code",
   "execution_count": 423,
   "metadata": {},
   "outputs": [
    {
     "output_type": "stream",
     "name": "stdout",
     "text": [
      "Vegard Vestvik\n",
      "Chilwell <- -> Rüdiger\n",
      "Mitchell <- -> Shaw\n",
      "Oda Haugane\n",
      "Ingen bytter\n",
      "Tor Aimar Carlsen\n",
      "Ingen bytter\n",
      "Espen Sævig\n",
      "Chilwell <- -> Alonso\n",
      "Endre Bratland Skurtveit\n",
      "Tierney <- -> Cresswell\n",
      "Cavani <- -> Antonio\n",
      "Dan Erik Linde\n",
      "Robertson <- -> Alonso\n",
      "Stian Linde\n",
      "Ingen bytter\n",
      "Simen Madsen\n",
      "Ingen bytter\n",
      "Eirik Rode\n",
      "Ingen bytter\n",
      "Hogne Vestvik\n",
      "Ingen bytter\n"
     ]
    }
   ],
   "source": [
    "getAllTransfers()"
   ]
  },
  {
   "cell_type": "code",
   "execution_count": null,
   "metadata": {},
   "outputs": [],
   "source": []
  }
 ]
}