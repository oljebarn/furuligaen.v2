{
 "metadata": {
  "language_info": {
   "codemirror_mode": {
    "name": "ipython",
    "version": 3
   },
   "file_extension": ".py",
   "mimetype": "text/x-python",
   "name": "python",
   "nbconvert_exporter": "python",
   "pygments_lexer": "ipython3",
   "version": "3.9.0-final"
  },
  "orig_nbformat": 2,
  "kernelspec": {
   "name": "python390jvsc74a57bd0aee8b7b246df8f9039afb4144a1f6fd8d2ca17a180786b69acc140d282b71a49",
   "display_name": "Python 3.9.0 64-bit"
  }
 },
 "nbformat": 4,
 "nbformat_minor": 2,
 "cells": [
  {
   "cell_type": "code",
   "execution_count": 2,
   "metadata": {},
   "outputs": [],
   "source": [
    "import requests\n",
    "import pandas as pd\n",
    "from typing import Text\n",
    "from flask import Flask, render_template\n",
    "import pandas as pd\n",
    "import requests\n",
    "from datetime import timedelta, datetime"
   ]
  },
  {
   "cell_type": "code",
   "execution_count": 6,
   "metadata": {},
   "outputs": [],
   "source": [
    "thisGw = 30\n",
    "def getCap(playerId):\n",
    "    url2 = 'https://fantasy.premierleague.com/api/entry/' + str(playerId)+ '/event/' + str  (thisGw) + '/picks/'\n",
    "    r2 = requests.get(url2)\n",
    "    picks = r2.json()['picks']\n",
    "\n",
    "    for pick in picks:\n",
    "        if pick['is_captain']:\n",
    "            return pick['element']"
   ]
  },
  {
   "cell_type": "code",
   "execution_count": 7,
   "metadata": {},
   "outputs": [
    {
     "output_type": "execute_result",
     "data": {
      "text/plain": [
       "388"
      ]
     },
     "metadata": {},
     "execution_count": 7
    }
   ],
   "source": [
    "getCap(3378570)"
   ]
  },
  {
   "cell_type": "code",
   "execution_count": 9,
   "metadata": {},
   "outputs": [],
   "source": [
    "\n",
    "url4 = 'https://fantasy.premierleague.com/api/bootstrap-static/'\n",
    "r4 = requests.get(url4)\n",
    "json = r4.json()['teams']"
   ]
  },
  {
   "cell_type": "code",
   "execution_count": 11,
   "metadata": {},
   "outputs": [
    {
     "output_type": "execute_result",
     "data": {
      "text/plain": [
       "{'code': 3,\n",
       " 'draw': 0,\n",
       " 'form': None,\n",
       " 'id': 1,\n",
       " 'loss': 0,\n",
       " 'name': 'Arsenal',\n",
       " 'played': 0,\n",
       " 'points': 0,\n",
       " 'position': 0,\n",
       " 'short_name': 'ARS',\n",
       " 'strength': 4,\n",
       " 'team_division': None,\n",
       " 'unavailable': False,\n",
       " 'win': 0,\n",
       " 'strength_overall_home': 1190,\n",
       " 'strength_overall_away': 1210,\n",
       " 'strength_attack_home': 1170,\n",
       " 'strength_attack_away': 1210,\n",
       " 'strength_defence_home': 1190,\n",
       " 'strength_defence_away': 1200,\n",
       " 'pulse_id': 1}"
      ]
     },
     "metadata": {},
     "execution_count": 11
    }
   ],
   "source": [
    "json[0]"
   ]
  },
  {
   "cell_type": "code",
   "execution_count": null,
   "metadata": {},
   "outputs": [],
   "source": []
  }
 ]
}