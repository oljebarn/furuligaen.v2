{
 "cells": [
  {
   "cell_type": "code",
   "execution_count": 2,
   "metadata": {},
   "outputs": [],
   "source": [
    "import requests\n",
    "import pandas as pd\n",
    "from typing import Text\n",
    "from flask import Flask, render_template\n",
    "import pandas as pd\n",
    "import requests\n",
    "from datetime import timedelta, datetime, date\n",
    "import time\n",
    "\n"
   ]
  },
  {
   "cell_type": "code",
   "execution_count": 12,
   "metadata": {},
   "outputs": [
    {
     "name": "stdout",
     "output_type": "stream",
     "text": [
      "[{'entry': 4960414, 'entry_name': 'Taperpengermedglede', 'joined_time': '2022-08-01T18:47:42.149413Z', 'player_first_name': 'Hogne', 'player_last_name': 'Vestvik'}, {'entry': 1160728, 'entry_name': 'TheHoff', 'joined_time': '2022-08-01T11:16:13.722467Z', 'player_first_name': 'Magnus', 'player_last_name': 'Rishaug'}, {'entry': 4609794, 'entry_name': 'Winningpool', 'joined_time': '2022-07-31T13:12:33.535074Z', 'player_first_name': 'Oda', 'player_last_name': 'Haugane'}, {'entry': 2891568, 'entry_name': 'Haalandaise sause', 'joined_time': '2022-07-29T11:19:15.448699Z', 'player_first_name': 'Christiane', 'player_last_name': 'Kahrs'}, {'entry': 57182, 'entry_name': 'Nordens PSG', 'joined_time': '2022-07-29T11:19:15.374162Z', 'player_first_name': 'Simen', 'player_last_name': 'Madsen'}, {'entry': 2890241, 'entry_name': 'midlertidig', 'joined_time': '2022-07-29T11:19:15.297872Z', 'player_first_name': 'Tor Aimar', 'player_last_name': 'Carlsen'}, {'entry': 2581160, 'entry_name': 'Bergartene', 'joined_time': '2022-07-29T11:19:15.216087Z', 'player_first_name': 'Endre', 'player_last_name': 'Bratland Skurtveit'}, {'entry': 2063216, 'entry_name': 'matsmatsmats', 'joined_time': '2022-07-29T11:19:15.131735Z', 'player_first_name': 'Mats', 'player_last_name': 'Sævig'}, {'entry': 154664, 'entry_name': 'Husekleppen', 'joined_time': '2022-07-29T11:19:15.053966Z', 'player_first_name': 'Dan Erik', 'player_last_name': 'Linde'}, {'entry': 3908939, 'entry_name': 'Heismann Haaland', 'joined_time': '2022-07-29T11:19:14.964327Z', 'player_first_name': 'Espen', 'player_last_name': 'Sævig'}, {'entry': 1156785, 'entry_name': 'Stian', 'joined_time': '2022-07-29T11:19:14.882753Z', 'player_first_name': 'Stian', 'player_last_name': 'Linde'}, {'entry': 3411, 'entry_name': 'Frenkie United', 'joined_time': '2022-07-29T11:19:14.839206Z', 'player_first_name': 'Vegard', 'player_last_name': 'Vestvik'}]\n"
     ]
    }
   ],
   "source": [
    "leagueID = \"888655\"\n",
    "\n",
    "def getTeamList():\n",
    "    try:\n",
    "        url2 = 'https://fantasy.premierleague.com/api/leagues-classic/' + \\\n",
    "            leagueID + '/standings/'\n",
    "        r2 = requests.get(url2)\n",
    "        json2 = r2.json()\n",
    "        standings_df = pd.DataFrame(json2['standings'])\n",
    "        league_df = pd.DataFrame(standings_df['results'].values.tolist())\n",
    "        return league_df[['entry', 'player_name']]\n",
    "    except:\n",
    "        return None\n",
    "\n",
    "def getNewEntries():\n",
    "    url = 'https://fantasy.premierleague.com/api/leagues-classic/' + \\\n",
    "        leagueID + '/standings/'\n",
    "    r = requests.get(url).json()\n",
    "    return r['new_entries']['results']\n",
    "\n",
    "\n",
    "\n",
    "# url = 'https://fantasy.premierleague.com/api/leagues-classic/' + \\\n",
    "#             leagueID + '/standings/'\n",
    "# r = requests.get(url).json()\n",
    "# if not r['standings']['results']:\n",
    "#     print(getNewEntries())\n",
    "    \n",
    "getTeamList()"
   ]
  },
  {
   "cell_type": "code",
   "execution_count": 18,
   "metadata": {},
   "outputs": [
    {
     "data": {
      "text/plain": [
       "[(75, 1113962),\n",
       " (71, 1942180),\n",
       " (69, 1349385),\n",
       " (66, 2403760),\n",
       " (60, 4312501),\n",
       " (60, 2873246),\n",
       " (59, 6165479),\n",
       " (57, 955967),\n",
       " (47, 3414480),\n",
       " (47, 2554334),\n",
       " (38, 956051)]"
      ]
     },
     "execution_count": 18,
     "metadata": {},
     "output_type": "execute_result"
    }
   ],
   "source": [
    "thisGw = 18\n",
    "gwStart = 17\n",
    "\n",
    "def getLastRoundPoints (teamID):\n",
    "     url = 'https://fantasy.premierleague.com/api/entry/' + str(teamID) + '/history/'\n",
    "     r = requests.get(url).json()['current']\n",
    "     LastRoundPoints = r[thisGw - 2]['total_points'] - r[17 - 2]['total_points']\n",
    "     return LastRoundPoints\n",
    "\n",
    "def genereateLastPlacements():\n",
    "     url = 'https://fantasy.premierleague.com/api/leagues-classic/173312/standings/'\n",
    "     r = requests.get(url).json()['standings']['results']\n",
    "     lastStandings = []\n",
    "     for manager in r:\n",
    "          lastStandings.append((getLastRoundPoints(manager['entry']), manager['entry']))\n",
    "     lastStandings.sort(key=lambda y:y[0], reverse=True)\n",
    "     \n",
    "     return lastStandings\n",
    "\n",
    "genereateLastPlacements()"
   ]
  },
  {
   "cell_type": "code",
   "execution_count": 16,
   "metadata": {},
   "outputs": [],
   "source": [
    "def genereateLastPlacements():\n",
    "    url = 'https://fantasy.premierleague.com/api/leagues-classic/173312/standings/'\n",
    "    r = requests.get(url).json()['standings']['results']\n",
    "    lastStandings = []\n",
    "    for manager in r:\n",
    "        lastStandings.append((getLastRoundPoints(manager['entry']), manager['entry']))\n",
    "    lastStandings.sort(key=lambda y:y[0], reverse=True)\n",
    "    \n",
    "    entrys = []\n",
    "    for x, y in lastStandings:\n",
    "        entrys.append(y)\n",
    "    return entrys"
   ]
  },
  {
   "cell_type": "code",
   "execution_count": 6,
   "metadata": {},
   "outputs": [
    {
     "data": {
      "text/plain": [
       "2"
      ]
     },
     "execution_count": 6,
     "metadata": {},
     "output_type": "execute_result"
    }
   ],
   "source": [
    "genereateLastPlacements().index(956051)\n",
    "\n"
   ]
  },
  {
   "cell_type": "code",
   "execution_count": 57,
   "metadata": {},
   "outputs": [
    {
     "data": {
      "text/plain": [
       "[2]"
      ]
     },
     "execution_count": 57,
     "metadata": {},
     "output_type": "execute_result"
    }
   ],
   "source": [
    "[x for x, y in enumerate(genereateLastPlacements()) if y[1] == 956051]"
   ]
  },
  {
   "cell_type": "code",
   "execution_count": 17,
   "metadata": {},
   "outputs": [
    {
     "data": {
      "text/plain": [
       "624609.0"
      ]
     },
     "execution_count": 17,
     "metadata": {},
     "output_type": "execute_result"
    }
   ],
   "source": [
    "\n",
    "url = 'https://fantasy.premierleague.com/api/entry/956051/history/'\n",
    "r = requests.get(url).json()\n",
    "avg:int = (r['past'][-1]['rank'] + r['past'][-2]['rank'] + r['past'][-3]['rank']) / 3\n",
    "avg"
   ]
  },
  {
   "cell_type": "code",
   "execution_count": 214,
   "metadata": {},
   "outputs": [],
   "source": [
    "def getPlayerInfo(playerId): \n",
    "    url2 = 'https://fantasy.premierleague.com/api/event/' + str(thisGw) + '/live/'\n",
    "    liveInfo = requests.get(url2).json()['elements']\n",
    "    liveInfo = liveInfo[playerId-1]['explain']\n",
    "    playerInfo = []\n",
    "    for stats in liveInfo:\n",
    "        for stat in stats['stats']:\n",
    "            playerInfo.append(stat)\n",
    "\n",
    "    df = pd.DataFrame(playerInfo)\n",
    "    test = []\n",
    "    visited = []\n",
    "    for i in range(len(df)):\n",
    "        tempIdentifier = df.at[i, 'identifier']\n",
    "        if tempIdentifier not in visited:\n",
    "            tempValue = df.loc[df['identifier'] == tempIdentifier, 'value'].sum()\n",
    "            test.append({\n",
    "                'identifier' : tempIdentifier,\n",
    "                'value' : tempValue\n",
    "            })\n",
    "            visited.append(tempIdentifier)\n",
    "    return test\n"
   ]
  },
  {
   "cell_type": "code",
   "execution_count": 216,
   "metadata": {},
   "outputs": [
    {
     "data": {
      "text/plain": [
       "[{'identifier': 'minutes', 'value': 0}]"
      ]
     },
     "execution_count": 216,
     "metadata": {},
     "output_type": "execute_result"
    }
   ],
   "source": [
    "getPlayerInfo(1)"
   ]
  },
  {
   "cell_type": "code",
   "execution_count": 190,
   "metadata": {},
   "outputs": [],
   "source": [
    "import collections, functools, operator"
   ]
  },
  {
   "cell_type": "code",
   "execution_count": 192,
   "metadata": {},
   "outputs": [
    {
     "data": {
      "text/plain": [
       "[{'identifier': 'minutes', 'points': 0, 'value': 0},\n",
       " {'identifier': 'minutes', 'points': 2, 'value': 90},\n",
       " {'identifier': 'goals_scored', 'points': 8, 'value': 2},\n",
       " {'identifier': 'bonus', 'points': 2, 'value': 2}]"
      ]
     },
     "execution_count": 192,
     "metadata": {},
     "output_type": "execute_result"
    }
   ],
   "source": [
    "playerInfo"
   ]
  },
  {
   "cell_type": "code",
   "execution_count": 207,
   "metadata": {},
   "outputs": [
    {
     "data": {
      "text/plain": [
       "dict_values(['minutes', 0, 0])"
      ]
     },
     "execution_count": 207,
     "metadata": {},
     "output_type": "execute_result"
    }
   ],
   "source": [
    "playerInfo[0].values()"
   ]
  },
  {
   "cell_type": "code",
   "execution_count": 135,
   "metadata": {},
   "outputs": [
    {
     "data": {
      "text/html": [
       "<div>\n",
       "<style scoped>\n",
       "    .dataframe tbody tr th:only-of-type {\n",
       "        vertical-align: middle;\n",
       "    }\n",
       "\n",
       "    .dataframe tbody tr th {\n",
       "        vertical-align: top;\n",
       "    }\n",
       "\n",
       "    .dataframe thead th {\n",
       "        text-align: right;\n",
       "    }\n",
       "</style>\n",
       "<table border=\"1\" class=\"dataframe\">\n",
       "  <thead>\n",
       "    <tr style=\"text-align: right;\">\n",
       "      <th></th>\n",
       "      <th>identifier</th>\n",
       "      <th>points</th>\n",
       "      <th>value</th>\n",
       "    </tr>\n",
       "  </thead>\n",
       "  <tbody>\n",
       "    <tr>\n",
       "      <th>0</th>\n",
       "      <td>minutes</td>\n",
       "      <td>0</td>\n",
       "      <td>0</td>\n",
       "    </tr>\n",
       "    <tr>\n",
       "      <th>1</th>\n",
       "      <td>minutes</td>\n",
       "      <td>2</td>\n",
       "      <td>90</td>\n",
       "    </tr>\n",
       "    <tr>\n",
       "      <th>2</th>\n",
       "      <td>goals_scored</td>\n",
       "      <td>8</td>\n",
       "      <td>2</td>\n",
       "    </tr>\n",
       "    <tr>\n",
       "      <th>3</th>\n",
       "      <td>bonus</td>\n",
       "      <td>2</td>\n",
       "      <td>2</td>\n",
       "    </tr>\n",
       "  </tbody>\n",
       "</table>\n",
       "</div>"
      ],
      "text/plain": [
       "     identifier  points  value\n",
       "0       minutes       0      0\n",
       "1       minutes       2     90\n",
       "2  goals_scored       8      2\n",
       "3         bonus       2      2"
      ]
     },
     "execution_count": 135,
     "metadata": {},
     "output_type": "execute_result"
    }
   ],
   "source": [
    "df = pd.DataFrame(playerInfo)\n",
    "df"
   ]
  },
  {
   "cell_type": "code",
   "execution_count": 211,
   "metadata": {},
   "outputs": [
    {
     "data": {
      "text/plain": [
       "[{'identifier': 'minutes', 'value': 90},\n",
       " {'identifier': 'goals_scored', 'value': 2},\n",
       " {'identifier': 'bonus', 'value': 2}]"
      ]
     },
     "execution_count": 211,
     "metadata": {},
     "output_type": "execute_result"
    }
   ],
   "source": [
    "test = []\n",
    "visited = []\n",
    "for i in range(len(df)):\n",
    "    tempIdentifier = df.at[i, 'identifier']\n",
    "    if tempIdentifier not in visited:\n",
    "        tempValue = df.loc[df['identifier'] == tempIdentifier, 'value'].sum()\n",
    "        test.append({\n",
    "            'identifier' : tempIdentifier,\n",
    "            'value' : tempValue\n",
    "        })\n",
    "        visited.append(tempIdentifier)\n",
    "test"
   ]
  },
  {
   "cell_type": "code",
   "execution_count": 134,
   "metadata": {},
   "outputs": [],
   "source": [
    "for stats in liveInfo:\n",
    "    for stat in stats['stats']:\n",
    "        tempList = list(stat.keys())\n",
    "         "
   ]
  },
  {
   "cell_type": "code",
   "execution_count": 182,
   "metadata": {},
   "outputs": [
    {
     "data": {
      "text/plain": [
       "'goals_scored'"
      ]
     },
     "execution_count": 182,
     "metadata": {},
     "output_type": "execute_result"
    }
   ],
   "source": [
    "test[0]['identifier']"
   ]
  },
  {
   "cell_type": "code",
   "execution_count": null,
   "metadata": {},
   "outputs": [],
   "source": []
  }
 ],
 "metadata": {
  "interpreter": {
   "hash": "aee8b7b246df8f9039afb4144a1f6fd8d2ca17a180786b69acc140d282b71a49"
  },
  "kernelspec": {
   "display_name": "Python 3.9.0 64-bit",
   "name": "python3"
  },
  "language_info": {
   "codemirror_mode": {
    "name": "ipython",
    "version": 3
   },
   "file_extension": ".py",
   "mimetype": "text/x-python",
   "name": "python",
   "nbconvert_exporter": "python",
   "pygments_lexer": "ipython3",
   "version": "3.10.4"
  },
  "orig_nbformat": 2
 },
 "nbformat": 4,
 "nbformat_minor": 2
}
