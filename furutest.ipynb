{
 "metadata": {
  "language_info": {
   "codemirror_mode": {
    "name": "ipython",
    "version": 3
   },
   "file_extension": ".py",
   "mimetype": "text/x-python",
   "name": "python",
   "nbconvert_exporter": "python",
   "pygments_lexer": "ipython3",
   "version": "3.9.0-final"
  },
  "orig_nbformat": 2,
  "kernelspec": {
   "name": "python390jvsc74a57bd0aee8b7b246df8f9039afb4144a1f6fd8d2ca17a180786b69acc140d282b71a49",
   "display_name": "Python 3.9.0 64-bit"
  }
 },
 "nbformat": 4,
 "nbformat_minor": 2,
 "cells": [
  {
   "cell_type": "code",
   "execution_count": 1,
   "metadata": {},
   "outputs": [],
   "source": [
    "import requests\n",
    "import pandas as pd\n",
    "from typing import Text\n",
    "from flask import Flask, render_template\n",
    "import pandas as pd\n",
    "import requests\n",
    "from datetime import timedelta, datetime, date\n",
    "import time\n"
   ]
  },
  {
   "cell_type": "code",
   "execution_count": 79,
   "metadata": {},
   "outputs": [],
   "source": [
    "    thisGw = 33\n",
    "\n",
    "    def getGwStart():\n",
    "        gw = thisGw\n",
    "        liste = [5, 9, 13, 17, 21, 25, 29, 33]\n",
    "        for obj in liste:\n",
    "            if gw < obj:\n",
    "                return obj - 4 \n",
    "        else:\n",
    "            return 33     \n",
    "\n",
    "    gws = getGwStart()\n",
    "\n",
    "    def gwEnd ():\n",
    "        gw = gws\n",
    "        if gw == 33:\n",
    "            return 38\n",
    "        else:\n",
    "            return gw + 3\n",
    "    gwE = gwEnd()"
   ]
  },
  {
   "cell_type": "code",
   "execution_count": 90,
   "metadata": {},
   "outputs": [],
   "source": [
    "def getBootstrapTeams():\n",
    "    url4 = 'https://fantasy.premierleague.com/api/bootstrap-static/'\n",
    "    r4 = requests.get(url4)\n",
    "    json = r4.json()\n",
    "    gameweek_df = pd.DataFrame(json['elements'])\n",
    "    teams = gameweek_df[['id', 'team', 'element_type']]\n",
    "    teams.set_index('id', inplace = True)\n",
    "    return teams\n",
    "\n",
    "teams = getBootstrapTeams()\n",
    "def getTeamList():\n",
    "        url2 = 'https://fantasy.premierleague.com/api/leagues-classic/627607/standings/'\n",
    "        r2 = requests.get(url2)\n",
    "        json2 = r2.json()\n",
    "        standings_df = pd.DataFrame(json2['standings'])\n",
    "        league_df = pd.DataFrame(standings_df['results'].values.tolist())\n",
    "        return league_df [['entry', 'player_name']]\n",
    "\n",
    "teamsList = getTeamList()"
   ]
  },
  {
   "cell_type": "code",
   "execution_count": 113,
   "metadata": {},
   "outputs": [
    {
     "output_type": "execute_result",
     "data": {
      "text/plain": [
       "250"
      ]
     },
     "metadata": {},
     "execution_count": 113
    }
   ],
   "source": [
    "url = 'https://fantasy.premierleague.com/api/entry/3378570/history/'\n",
    "teamPoints = requests.get(url).json()['current']\n",
    "teamPoints[4 - 1]['total_points']\n"
   ]
  },
  {
   "cell_type": "code",
   "execution_count": 184,
   "metadata": {},
   "outputs": [
    {
     "output_type": "execute_result",
     "data": {
      "text/plain": [
       "[{'GW': '1 → 4', 'Vinner': 'Tor Aimar Carlsen', 'Poeng': 257},\n",
       " {'GW': '5 → 8', 'Vinner': 'Espen Sævig', 'Poeng': 259},\n",
       " {'GW': '9 → 12', 'Vinner': 'Espen Sævig', 'Poeng': 271},\n",
       " {'GW': '13 → 16', 'Vinner': 'Vegard Vestvik', 'Poeng': 261},\n",
       " {'GW': '17 → 20', 'Vinner': 'Vegard Vestvik', 'Poeng': 292},\n",
       " {'GW': '21 → 24', 'Vinner': 'Oda Haugane', 'Poeng': 307},\n",
       " {'GW': '25 → 28', 'Vinner': 'Vegard Vestvik', 'Poeng': 324}]"
      ]
     },
     "metadata": {},
     "execution_count": 184
    }
   ],
   "source": [
    " def getRoundPoints(slutter):\n",
    "        starter = slutter - 5\n",
    "        slutter = starter + 4\n",
    "\n",
    "        result = []\n",
    "        navn = []\n",
    "        # Finner scoren til alle spillerne i parmeterintervallet\n",
    "        \n",
    "        for i in range (len(teamsList)):\n",
    "            url = 'https://fantasy.premierleague.com/api/entry/' + str(teamsList.iat[i,0]) + '/history/'\n",
    "            r = requests.get(url)\n",
    "            json = r.json()\n",
    "            teamPoints_df = pd.DataFrame(json['current'])\n",
    "            result.append(teamPoints_df['points'][starter:slutter].sum() - \n",
    "                        teamPoints_df['event_transfers_cost'][starter:slutter].sum())\n",
    "            navn.append(teamsList.iat[i,1])\n",
    "        \n",
    "        samlet = pd.DataFrame(result, navn)\n",
    "        samlet.reset_index(inplace = True)\n",
    "        maxClm = samlet.loc[samlet[0].argmax()]\n",
    "        \n",
    "        return maxClm\n",
    "\n",
    "\n",
    "\n",
    "def getWinners():\n",
    "    nyRunde = [5, 9, 13, 17, 21, 25, 29, 33, 37]\n",
    "    rundevinnere = []\n",
    "    gwIntervall = [\"1 → 4\", \"5 → 8\", \"9 → 12\", \"13 → 16\", \"17 → 20\",\n",
    "    \"21 → 24\", \"25 → 28\", \"29 → 32\", \"33 → 36\", \"37 → 38\"]\n",
    "    for obj in nyRunde:\n",
    "        if gws < obj:\n",
    "            break\n",
    "        if gws >= obj:\n",
    "            rundevinnere.append(getRoundPoints(obj))\n",
    "            \n",
    "    result = pd.DataFrame(rundevinnere)\n",
    "    result.insert(0, 'Runde', gwIntervall[:(len(result))], True)\n",
    "    result.columns = ['GW', 'Vinner', 'Poeng']\n",
    "    return result\n",
    "\n",
    "def getWinners2():\n",
    "    url = 'https://fantasy.premierleague.com/api/bootstrap-static/'\n",
    "    events = requests.get(url).json()['events']\n",
    "    nyRunde = [(1,4), (5,8), (9,12), (13,16), (17,20), (21,24), (25,28), (29,32), (33,38)]\n",
    "    rundevinnere = []\n",
    "    result = []\n",
    "    i = 0\n",
    "    gwIntervall = [\"1 → 4\", \"5 → 8\", \"9 → 12\", \"13 → 16\", \"17 → 20\",\n",
    "    \"21 → 24\", \"25 → 28\", \"29 → 32\", \"33 → 38\"]\n",
    "    for rndS, rndE in nyRunde:\n",
    "        if events[rndE - 1]['data_checked']:\n",
    "            rundevinnere.append(getRoundWinners(rndS, rndE))\n",
    "    for points, win in rundevinnere:\n",
    "        result.append({\n",
    "            'GW': gwIntervall[i],\n",
    "            'Vinner': win,\n",
    "            'Poeng': points\n",
    "        })\n",
    "        i += 1\n",
    "    return result\n",
    "\n",
    "getWinners2()"
   ]
  },
  {
   "cell_type": "code",
   "execution_count": 185,
   "metadata": {},
   "outputs": [
    {
     "output_type": "execute_result",
     "data": {
      "text/plain": [
       "[{'GW': '1 → 4', 'Vinner': 'Tor Aimar Carlsen', 'Poeng': 257},\n",
       " {'GW': '5 → 8', 'Vinner': 'Espen Sævig', 'Poeng': 259},\n",
       " {'GW': '9 → 12', 'Vinner': 'Espen Sævig', 'Poeng': 271},\n",
       " {'GW': '13 → 16', 'Vinner': 'Vegard Vestvik', 'Poeng': 261},\n",
       " {'GW': '17 → 20', 'Vinner': 'Vegard Vestvik', 'Poeng': 292},\n",
       " {'GW': '21 → 24', 'Vinner': 'Oda Haugane', 'Poeng': 307},\n",
       " {'GW': '25 → 28', 'Vinner': 'Vegard Vestvik', 'Poeng': 324}]"
      ]
     },
     "metadata": {},
     "execution_count": 185
    }
   ],
   "source": [
    "getWinners2()"
   ]
  },
  {
   "cell_type": "code",
   "execution_count": 179,
   "metadata": {},
   "outputs": [],
   "source": [
    "def getRoundWinners(roundStart, roundEnd):\n",
    "    result = []\n",
    "    for i in range (len(teamsList)):\n",
    "        url = 'https://fantasy.premierleague.com/api/entry/' + str(teamsList.at[i,'entry']) + '/history/'\n",
    "        teamPoints = requests.get(url).json()['current']\n",
    "        if roundEnd == 4:\n",
    "            result.append((\n",
    "                teamPoints[roundEnd - 1]['total_points'],\n",
    "                teamsList.at[i,'player_name']\n",
    "                ))\n",
    "        else:\n",
    "            result.append(\n",
    "                (teamPoints[roundEnd - 1]['total_points'] \n",
    "                - teamPoints[roundStart - 2]['total_points'],\n",
    "                teamsList.at[i,'player_name'],))\n",
    "    return max(result)"
   ]
  },
  {
   "cell_type": "code",
   "execution_count": 177,
   "metadata": {},
   "outputs": [
    {
     "output_type": "execute_result",
     "data": {
      "text/plain": [
       "(259, 'Espen Sævig')"
      ]
     },
     "metadata": {},
     "execution_count": 177
    }
   ],
   "source": [
    "max(getRoundWinners(5, 8))"
   ]
  },
  {
   "cell_type": "code",
   "execution_count": 164,
   "metadata": {},
   "outputs": [
    {
     "output_type": "execute_result",
     "data": {
      "text/plain": [
       "[('Vegard Vestvik', 242),\n",
       " ('Oda Haugane', 240),\n",
       " ('Tor Aimar Carlsen', 257),\n",
       " ('Espen Sævig', 250),\n",
       " ('Endre Bratland Skurtveit', 254),\n",
       " ('Dan Erik Linde', 207),\n",
       " ('Stian Linde', 226),\n",
       " ('Eirik Rode', 210),\n",
       " ('Simen Madsen', 232),\n",
       " ('Hogne Vestvik', 165)]"
      ]
     },
     "metadata": {},
     "execution_count": 164
    }
   ],
   "source": [
    "getRoundWinners(1, 4)"
   ]
  },
  {
   "cell_type": "code",
   "execution_count": 180,
   "metadata": {},
   "outputs": [
    {
     "output_type": "execute_result",
     "data": {
      "text/plain": [
       "             0\n",
       "0          259\n",
       "1  Espen Sævig"
      ],
      "text/html": "<div>\n<style scoped>\n    .dataframe tbody tr th:only-of-type {\n        vertical-align: middle;\n    }\n\n    .dataframe tbody tr th {\n        vertical-align: top;\n    }\n\n    .dataframe thead th {\n        text-align: right;\n    }\n</style>\n<table border=\"1\" class=\"dataframe\">\n  <thead>\n    <tr style=\"text-align: right;\">\n      <th></th>\n      <th>0</th>\n    </tr>\n  </thead>\n  <tbody>\n    <tr>\n      <th>0</th>\n      <td>259</td>\n    </tr>\n    <tr>\n      <th>1</th>\n      <td>Espen Sævig</td>\n    </tr>\n  </tbody>\n</table>\n</div>"
     },
     "metadata": {},
     "execution_count": 180
    }
   ],
   "source": [
    "pd.DataFrame(getRoundWinners(5, 8))"
   ]
  },
  {
   "cell_type": "code",
   "execution_count": 75,
   "metadata": {},
   "outputs": [
    {
     "output_type": "execute_result",
     "data": {
      "text/plain": [
       "False"
      ]
     },
     "metadata": {},
     "execution_count": 75
    }
   ],
   "source": [
    "url2 = 'https://fantasy.premierleague.com/api/bootstrap-static/'\n",
    "events2 = requests.get(url2).json()['events']\n",
    "events2[37]['data_checked']"
   ]
  },
  {
   "cell_type": "code",
   "execution_count": 39,
   "metadata": {},
   "outputs": [
    {
     "output_type": "stream",
     "name": "stdout",
     "text": [
      "33\n38\n"
     ]
    }
   ],
   "source": [
    "print(getGwStart())\n",
    "print(gwEnd())"
   ]
  },
  {
   "cell_type": "code",
   "execution_count": 108,
   "metadata": {},
   "outputs": [],
   "source": [
    "thisGw = 30\n",
    "def dateAndTime(dataTime):\n",
    "    return datetime.strptime(dateTime, \"%Y-%m-%dT%H:%M:%SZ\")"
   ]
  },
  {
   "cell_type": "code",
   "execution_count": 72,
   "metadata": {},
   "outputs": [
    {
     "output_type": "execute_result",
     "data": {
      "text/plain": [
       "'2021-04-03T11:30:00Z'"
      ]
     },
     "metadata": {},
     "execution_count": 72
    }
   ],
   "source": [
    "dateAndTime()"
   ]
  },
  {
   "cell_type": "code",
   "execution_count": 176,
   "metadata": {},
   "outputs": [
    {
     "output_type": "stream",
     "name": "stdout",
     "text": [
      "2021-04-03 11:30:00\n"
     ]
    }
   ],
   "source": [
    "#d = datetime.strptime('2021-04-03T11:30:00Z', \"%Y-%m-%dT%H:%M:%SZ\")\n",
    "d = datetime.strptime('2021-04-03T11:30:00Z', \"%Y-%m-%dT%H:%M:%SZ\")\n",
    "print(d)"
   ]
  },
  {
   "cell_type": "code",
   "execution_count": 179,
   "metadata": {},
   "outputs": [
    {
     "output_type": "execute_result",
     "data": {
      "text/plain": [
       "'03-04-11:30'"
      ]
     },
     "metadata": {},
     "execution_count": 179
    }
   ],
   "source": [
    "from_zone = tz.tzutc()\n",
    "to_zone = tz.tzlocal()\n",
    "d.strftime('%m-%d')\n",
    "d.strftime('%d-%m-%H:%M')\n",
    "d.replace(tzinfo=from_zone)\n",
    "central = d.astimezone(to_zone)\n",
    "central.strftime('%d-%m-%H:%M')\n",
    "\n",
    "\n"
   ]
  },
  {
   "cell_type": "code",
   "execution_count": 184,
   "metadata": {},
   "outputs": [],
   "source": [
    "def getDateTime(utc_datetime):\n",
    "    utc_datetime = datetime.strptime(utc_datetime, \"%Y-%m-%dT%H:%M:%SZ\")\n",
    "    now_timestamp = time.time()\n",
    "    offset = datetime.fromtimestamp(now_timestamp) - datetime.utcfromtimestamp(now_timestamp)\n",
    "    return utc_datetime + offset"
   ]
  },
  {
   "cell_type": "code",
   "execution_count": 185,
   "metadata": {},
   "outputs": [
    {
     "output_type": "execute_result",
     "data": {
      "text/plain": [
       "datetime.datetime(2021, 4, 3, 13, 30)"
      ]
     },
     "metadata": {},
     "execution_count": 185
    }
   ],
   "source": [
    "datetime_from_utc_to_local('2021-04-03T11:30:00Z')"
   ]
  },
  {
   "cell_type": "code",
   "execution_count": 61,
   "metadata": {},
   "outputs": [],
   "source": [
    "def isGameInPlay(teamID):\n",
    "\n",
    "    url = 'https://fantasy.premierleague.com/api/fixtures/?event='+ str(thisGw)\n",
    "    fixtures = requests.get(url).json()\n",
    "    for fix in fixtures:\n",
    "        if teamID == fix['team_a'] or teamID == fix['team_h']:\n",
    "            return fix['started'] and not fix['finished_provisional']"
   ]
  },
  {
   "cell_type": "code",
   "execution_count": 62,
   "metadata": {},
   "outputs": [
    {
     "output_type": "execute_result",
     "data": {
      "text/plain": [
       "False"
      ]
     },
     "metadata": {},
     "execution_count": 62
    }
   ],
   "source": [
    "isGameInPlay(19)"
   ]
  },
  {
   "cell_type": "code",
   "execution_count": 35,
   "metadata": {},
   "outputs": [],
   "source": [
    "test = not False"
   ]
  },
  {
   "cell_type": "code",
   "execution_count": 36,
   "metadata": {},
   "outputs": [
    {
     "output_type": "execute_result",
     "data": {
      "text/plain": [
       "True"
      ]
     },
     "metadata": {},
     "execution_count": 36
    }
   ],
   "source": [
    "test"
   ]
  },
  {
   "cell_type": "code",
   "execution_count": null,
   "metadata": {},
   "outputs": [],
   "source": []
  }
 ]
}