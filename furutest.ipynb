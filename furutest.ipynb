{
 "metadata": {
  "language_info": {
   "codemirror_mode": {
    "name": "ipython",
    "version": 3
   },
   "file_extension": ".py",
   "mimetype": "text/x-python",
   "name": "python",
   "nbconvert_exporter": "python",
   "pygments_lexer": "ipython3",
   "version": "3.9.0-final"
  },
  "orig_nbformat": 2,
  "kernelspec": {
   "name": "python390jvsc74a57bd0aee8b7b246df8f9039afb4144a1f6fd8d2ca17a180786b69acc140d282b71a49",
   "display_name": "Python 3.9.0 64-bit"
  }
 },
 "nbformat": 4,
 "nbformat_minor": 2,
 "cells": [
  {
   "cell_type": "code",
   "execution_count": 180,
   "metadata": {},
   "outputs": [],
   "source": [
    "import requests\n",
    "import pandas as pd\n",
    "from typing import Text\n",
    "from flask import Flask, render_template\n",
    "import pandas as pd\n",
    "import requests\n",
    "from datetime import timedelta, datetime, date\n",
    "import time\n"
   ]
  },
  {
   "cell_type": "code",
   "execution_count": 108,
   "metadata": {},
   "outputs": [],
   "source": [
    "thisGw = 30\n",
    "def dateAndTime(dataTime):\n",
    "    return datetime.strptime(dateTime, \"%Y-%m-%dT%H:%M:%SZ\")"
   ]
  },
  {
   "cell_type": "code",
   "execution_count": 72,
   "metadata": {},
   "outputs": [
    {
     "output_type": "execute_result",
     "data": {
      "text/plain": [
       "'2021-04-03T11:30:00Z'"
      ]
     },
     "metadata": {},
     "execution_count": 72
    }
   ],
   "source": [
    "dateAndTime()"
   ]
  },
  {
   "cell_type": "code",
   "execution_count": 176,
   "metadata": {},
   "outputs": [
    {
     "output_type": "stream",
     "name": "stdout",
     "text": [
      "2021-04-03 11:30:00\n"
     ]
    }
   ],
   "source": [
    "#d = datetime.strptime('2021-04-03T11:30:00Z', \"%Y-%m-%dT%H:%M:%SZ\")\n",
    "d = datetime.strptime('2021-04-03T11:30:00Z', \"%Y-%m-%dT%H:%M:%SZ\")\n",
    "print(d)"
   ]
  },
  {
   "cell_type": "code",
   "execution_count": 179,
   "metadata": {},
   "outputs": [
    {
     "output_type": "execute_result",
     "data": {
      "text/plain": [
       "'03-04-11:30'"
      ]
     },
     "metadata": {},
     "execution_count": 179
    }
   ],
   "source": [
    "from_zone = tz.tzutc()\n",
    "to_zone = tz.tzlocal()\n",
    "d.strftime('%m-%d')\n",
    "d.strftime('%d-%m-%H:%M')\n",
    "d.replace(tzinfo=from_zone)\n",
    "central = d.astimezone(to_zone)\n",
    "central.strftime('%d-%m-%H:%M')\n",
    "\n",
    "\n"
   ]
  },
  {
   "cell_type": "code",
   "execution_count": 184,
   "metadata": {},
   "outputs": [],
   "source": [
    "def getDateTime(utc_datetime):\n",
    "    utc_datetime = datetime.strptime(utc_datetime, \"%Y-%m-%dT%H:%M:%SZ\")\n",
    "    now_timestamp = time.time()\n",
    "    offset = datetime.fromtimestamp(now_timestamp) - datetime.utcfromtimestamp(now_timestamp)\n",
    "    return utc_datetime + offset"
   ]
  },
  {
   "cell_type": "code",
   "execution_count": 185,
   "metadata": {},
   "outputs": [
    {
     "output_type": "execute_result",
     "data": {
      "text/plain": [
       "datetime.datetime(2021, 4, 3, 13, 30)"
      ]
     },
     "metadata": {},
     "execution_count": 185
    }
   ],
   "source": [
    "datetime_from_utc_to_local('2021-04-03T11:30:00Z')"
   ]
  },
  {
   "cell_type": "code",
   "execution_count": 61,
   "metadata": {},
   "outputs": [],
   "source": [
    "def isGameInPlay(teamID):\n",
    "\n",
    "    url = 'https://fantasy.premierleague.com/api/fixtures/?event='+ str(thisGw)\n",
    "    fixtures = requests.get(url).json()\n",
    "    for fix in fixtures:\n",
    "        if teamID == fix['team_a'] or teamID == fix['team_h']:\n",
    "            return fix['started'] and not fix['finished_provisional']"
   ]
  },
  {
   "cell_type": "code",
   "execution_count": 62,
   "metadata": {},
   "outputs": [
    {
     "output_type": "execute_result",
     "data": {
      "text/plain": [
       "False"
      ]
     },
     "metadata": {},
     "execution_count": 62
    }
   ],
   "source": [
    "isGameInPlay(19)"
   ]
  },
  {
   "cell_type": "code",
   "execution_count": 35,
   "metadata": {},
   "outputs": [],
   "source": [
    "test = not False"
   ]
  },
  {
   "cell_type": "code",
   "execution_count": 36,
   "metadata": {},
   "outputs": [
    {
     "output_type": "execute_result",
     "data": {
      "text/plain": [
       "True"
      ]
     },
     "metadata": {},
     "execution_count": 36
    }
   ],
   "source": [
    "test"
   ]
  },
  {
   "cell_type": "code",
   "execution_count": null,
   "metadata": {},
   "outputs": [],
   "source": []
  }
 ]
}