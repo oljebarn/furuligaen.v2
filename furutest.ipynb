{
 "metadata": {
  "language_info": {
   "codemirror_mode": {
    "name": "ipython",
    "version": 3
   },
   "file_extension": ".py",
   "mimetype": "text/x-python",
   "name": "python",
   "nbconvert_exporter": "python",
   "pygments_lexer": "ipython3",
   "version": "3.9.0-final"
  },
  "orig_nbformat": 2,
  "kernelspec": {
   "name": "python390jvsc74a57bd0aee8b7b246df8f9039afb4144a1f6fd8d2ca17a180786b69acc140d282b71a49",
   "display_name": "Python 3.9.0 64-bit"
  }
 },
 "nbformat": 4,
 "nbformat_minor": 2,
 "cells": [
  {
   "cell_type": "code",
   "execution_count": 2,
   "metadata": {},
   "outputs": [],
   "source": [
    "import requests\n",
    "import pandas as pd\n",
    "from typing import Text\n",
    "from flask import Flask, render_template\n",
    "import pandas as pd\n",
    "import requests\n",
    "from datetime import timedelta, datetime"
   ]
  },
  {
   "cell_type": "code",
   "execution_count": 6,
   "metadata": {},
   "outputs": [],
   "source": [
    "thisGw = 30\n",
    "def getCap(playerId):\n",
    "    url2 = 'https://fantasy.premierleague.com/api/entry/' + str(playerId)+ '/event/' + str  (thisGw) + '/picks/'\n",
    "    r2 = requests.get(url2)\n",
    "    picks = r2.json()['picks']\n",
    "\n",
    "    for pick in picks:\n",
    "        if pick['is_captain']:\n",
    "            return pick['element']"
   ]
  },
  {
   "cell_type": "code",
   "execution_count": 7,
   "metadata": {},
   "outputs": [
    {
     "output_type": "execute_result",
     "data": {
      "text/plain": [
       "388"
      ]
     },
     "metadata": {},
     "execution_count": 7
    }
   ],
   "source": [
    "getCap(3378570)"
   ]
  },
  {
   "cell_type": "code",
   "execution_count": null,
   "metadata": {},
   "outputs": [],
   "source": []
  }
 ]
}