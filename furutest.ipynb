{
 "metadata": {
  "language_info": {
   "codemirror_mode": {
    "name": "ipython",
    "version": 3
   },
   "file_extension": ".py",
   "mimetype": "text/x-python",
   "name": "python",
   "nbconvert_exporter": "python",
   "pygments_lexer": "ipython3",
   "version": "3.9.0-final"
  },
  "orig_nbformat": 2,
  "kernelspec": {
   "name": "python390jvsc74a57bd0aee8b7b246df8f9039afb4144a1f6fd8d2ca17a180786b69acc140d282b71a49",
   "display_name": "Python 3.9.0 64-bit"
  }
 },
 "nbformat": 4,
 "nbformat_minor": 2,
 "cells": [
  {
   "cell_type": "code",
   "execution_count": 1,
   "metadata": {},
   "outputs": [],
   "source": [
    "import requests\n",
    "import pandas as pd\n",
    "from typing import Text\n",
    "from flask import Flask, render_template\n",
    "import pandas as pd\n",
    "import requests\n",
    "from datetime import timedelta, datetime, date\n",
    "import time\n"
   ]
  },
  {
   "cell_type": "code",
   "execution_count": 76,
   "metadata": {},
   "outputs": [
    {
     "output_type": "error",
     "ename": "SyntaxError",
     "evalue": "unmatched ')' (<ipython-input-76-f8756ac4d2b6>, line 8)",
     "traceback": [
      "\u001b[0;36m  File \u001b[0;32m\"<ipython-input-76-f8756ac4d2b6>\"\u001b[0;36m, line \u001b[0;32m8\u001b[0m\n\u001b[0;31m    if (list(stat.keys())[0]))\u001b[0m\n\u001b[0m                             ^\u001b[0m\n\u001b[0;31mSyntaxError\u001b[0m\u001b[0;31m:\u001b[0m unmatched ')'\n"
     ]
    }
   ],
   "source": [
    "url2 = 'https://fantasy.premierleague.com/api/event/32/live/'\n",
    "liveInfo = requests.get(url2).json()['elements']\n",
    "liveInfo = liveInfo[388-1]['explain']\n",
    "playerInfo = []\n",
    "for stats in liveInfo:\n",
    "    for stat in stats['stats']:\n",
    "        tempKeyList = (list(stat.keys())[0]))\n",
    "        if (list(stat.keys())[0]))"
   ]
  },
  {
   "cell_type": "code",
   "execution_count": 78,
   "metadata": {},
   "outputs": [
    {
     "output_type": "execute_result",
     "data": {
      "text/plain": [
       "[{'fixture': 286,\n",
       "  'stats': [{'identifier': 'minutes', 'points': 0, 'value': 0}]},\n",
       " {'fixture': 312,\n",
       "  'stats': [{'identifier': 'minutes', 'points': 2, 'value': 90},\n",
       "   {'identifier': 'goals_scored', 'points': 8, 'value': 2},\n",
       "   {'identifier': 'bonus', 'points': 2, 'value': 2}]}]"
      ]
     },
     "metadata": {},
     "execution_count": 78
    }
   ],
   "source": [
    "liveInfo.any()"
   ]
  },
  {
   "cell_type": "code",
   "execution_count": null,
   "metadata": {},
   "outputs": [],
   "source": []
  }
 ]
}