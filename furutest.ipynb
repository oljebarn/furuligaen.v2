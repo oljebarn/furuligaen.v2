{
 "metadata": {
  "language_info": {
   "codemirror_mode": {
    "name": "ipython",
    "version": 3
   },
   "file_extension": ".py",
   "mimetype": "text/x-python",
   "name": "python",
   "nbconvert_exporter": "python",
   "pygments_lexer": "ipython3",
   "version": "3.9.0-final"
  },
  "orig_nbformat": 2,
  "kernelspec": {
   "name": "python3",
   "display_name": "Python 3",
   "language": "python"
  }
 },
 "nbformat": 4,
 "nbformat_minor": 2,
 "cells": [
  {
   "cell_type": "code",
   "execution_count": 1,
   "metadata": {},
   "outputs": [],
   "source": [
    "import requests\n",
    "import pandas as pd\n",
    "from typing import Text\n",
    "from flask import Flask, render_template\n",
    "import pandas as pd\n",
    "import requests\n",
    "from datetime import timedelta, datetime\n"
   ]
  },
  {
   "cell_type": "code",
   "execution_count": 2,
   "metadata": {},
   "outputs": [],
   "source": [
    "def getTeamList():\n",
    "        url2 = 'https://fantasy.premierleague.com/api/leagues-classic/627607/standings/'\n",
    "        r2 = requests.get(url2)\n",
    "        json2 = r2.json()\n",
    "        standings_df = pd.DataFrame(json2['standings'])\n",
    "        league_df = pd.DataFrame(standings_df['results'].values.tolist())\n",
    "        return league_df [['entry', 'player_name']]\n",
    "\n",
    "teamsList = getTeamList()\n"
   ]
  },
  {
   "cell_type": "code",
   "execution_count": 3,
   "metadata": {},
   "outputs": [],
   "source": [
    "def getManagerName(lagId):\n",
    "    for i in range (len(teamsList['entry'])):\n",
    "        if (teamsList['entry'][i] == int(lagId)):\n",
    "            return teamsList['player_name'][i]\n"
   ]
  },
  {
   "cell_type": "code",
   "execution_count": 4,
   "metadata": {},
   "outputs": [
    {
     "output_type": "execute_result",
     "data": {
      "text/plain": [
       "'Vegard Vestvik'"
      ]
     },
     "metadata": {},
     "execution_count": 4
    }
   ],
   "source": [
    "getManagerName('1309866')"
   ]
  },
  {
   "cell_type": "code",
   "execution_count": 5,
   "metadata": {},
   "outputs": [],
   "source": [
    "url = 'https://fantasy.premierleague.com/api/entry/3378570/transfers/'\n",
    "r = requests.get(url)\n",
    "json = r.json()\n",
    "trans = pd.DataFrame(json)"
   ]
  },
  {
   "cell_type": "code",
   "execution_count": 6,
   "metadata": {},
   "outputs": [],
   "source": [
    "trans = trans.set_index('event')"
   ]
  },
  {
   "cell_type": "code",
   "execution_count": 7,
   "metadata": {},
   "outputs": [
    {
     "output_type": "execute_result",
     "data": {
      "text/plain": [
       "       element_in  element_in_cost  element_out  element_out_cost    entry  \\\n",
       "event                                                                        \n",
       "27            570               54          235                68  3378570   \n",
       "26            164               76          262                44  3378570   \n",
       "26            235               68           37                77  3378570   \n",
       "26             29               43          146                39  3378570   \n",
       "25            514               65          569                79  3378570   \n",
       "\n",
       "                              time  \n",
       "event                               \n",
       "27     2021-03-05T22:22:23.576921Z  \n",
       "26     2021-02-22T10:49:42.220515Z  \n",
       "26     2021-02-22T10:49:42.213685Z  \n",
       "26     2021-02-22T10:49:42.204413Z  \n",
       "25     2021-02-19T08:15:35.356599Z  "
      ],
      "text/html": "<div>\n<style scoped>\n    .dataframe tbody tr th:only-of-type {\n        vertical-align: middle;\n    }\n\n    .dataframe tbody tr th {\n        vertical-align: top;\n    }\n\n    .dataframe thead th {\n        text-align: right;\n    }\n</style>\n<table border=\"1\" class=\"dataframe\">\n  <thead>\n    <tr style=\"text-align: right;\">\n      <th></th>\n      <th>element_in</th>\n      <th>element_in_cost</th>\n      <th>element_out</th>\n      <th>element_out_cost</th>\n      <th>entry</th>\n      <th>time</th>\n    </tr>\n    <tr>\n      <th>event</th>\n      <th></th>\n      <th></th>\n      <th></th>\n      <th></th>\n      <th></th>\n      <th></th>\n    </tr>\n  </thead>\n  <tbody>\n    <tr>\n      <th>27</th>\n      <td>570</td>\n      <td>54</td>\n      <td>235</td>\n      <td>68</td>\n      <td>3378570</td>\n      <td>2021-03-05T22:22:23.576921Z</td>\n    </tr>\n    <tr>\n      <th>26</th>\n      <td>164</td>\n      <td>76</td>\n      <td>262</td>\n      <td>44</td>\n      <td>3378570</td>\n      <td>2021-02-22T10:49:42.220515Z</td>\n    </tr>\n    <tr>\n      <th>26</th>\n      <td>235</td>\n      <td>68</td>\n      <td>37</td>\n      <td>77</td>\n      <td>3378570</td>\n      <td>2021-02-22T10:49:42.213685Z</td>\n    </tr>\n    <tr>\n      <th>26</th>\n      <td>29</td>\n      <td>43</td>\n      <td>146</td>\n      <td>39</td>\n      <td>3378570</td>\n      <td>2021-02-22T10:49:42.204413Z</td>\n    </tr>\n    <tr>\n      <th>25</th>\n      <td>514</td>\n      <td>65</td>\n      <td>569</td>\n      <td>79</td>\n      <td>3378570</td>\n      <td>2021-02-19T08:15:35.356599Z</td>\n    </tr>\n  </tbody>\n</table>\n</div>"
     },
     "metadata": {},
     "execution_count": 7
    }
   ],
   "source": [
    "trans.head()"
   ]
  },
  {
   "cell_type": "code",
   "execution_count": 274,
   "metadata": {},
   "outputs": [],
   "source": []
  },
  {
   "cell_type": "code",
   "execution_count": 8,
   "metadata": {},
   "outputs": [
    {
     "output_type": "execute_result",
     "data": {
      "text/plain": [
       "       element_in  element_in_cost  element_out  element_out_cost    entry  \\\n",
       "event                                                                        \n",
       "22            306               95          284                62  3378570   \n",
       "22            506               67          303                87  3378570   \n",
       "\n",
       "                              time  \n",
       "event                               \n",
       "22     2021-02-02T16:28:42.885177Z  \n",
       "22     2021-02-02T16:28:42.878609Z  "
      ],
      "text/html": "<div>\n<style scoped>\n    .dataframe tbody tr th:only-of-type {\n        vertical-align: middle;\n    }\n\n    .dataframe tbody tr th {\n        vertical-align: top;\n    }\n\n    .dataframe thead th {\n        text-align: right;\n    }\n</style>\n<table border=\"1\" class=\"dataframe\">\n  <thead>\n    <tr style=\"text-align: right;\">\n      <th></th>\n      <th>element_in</th>\n      <th>element_in_cost</th>\n      <th>element_out</th>\n      <th>element_out_cost</th>\n      <th>entry</th>\n      <th>time</th>\n    </tr>\n    <tr>\n      <th>event</th>\n      <th></th>\n      <th></th>\n      <th></th>\n      <th></th>\n      <th></th>\n      <th></th>\n    </tr>\n  </thead>\n  <tbody>\n    <tr>\n      <th>22</th>\n      <td>306</td>\n      <td>95</td>\n      <td>284</td>\n      <td>62</td>\n      <td>3378570</td>\n      <td>2021-02-02T16:28:42.885177Z</td>\n    </tr>\n    <tr>\n      <th>22</th>\n      <td>506</td>\n      <td>67</td>\n      <td>303</td>\n      <td>87</td>\n      <td>3378570</td>\n      <td>2021-02-02T16:28:42.878609Z</td>\n    </tr>\n  </tbody>\n</table>\n</div>"
     },
     "metadata": {},
     "execution_count": 8
    }
   ],
   "source": [
    "trans.loc[22]"
   ]
  },
  {
   "cell_type": "code",
   "execution_count": 9,
   "metadata": {},
   "outputs": [],
   "source": [
    "def getTransfers(teamID):\n",
    "    url = 'https://fantasy.premierleague.com/api/entry/'+ str(teamID) + '/transfers/'\n",
    "    r = requests.get(url)\n",
    "    json = r.json()\n",
    "    trans = pd.DataFrame(json).set_index('event')\n",
    "    thisGw = 23\n",
    "    try:\n",
    "        trans = trans.loc[thisGw]\n",
    "        try:\n",
    "            for index, row in trans.iterrows():\n",
    "                print(getPlayerName(row['element_out']) + ' <- ->', getPlayerName(row[\"element_in\"]))\n",
    "        except:\n",
    "            print (getPlayerName(trans.at['element_out']) + ' <- ->', getPlayerName(trans.at['element_in']))\n",
    "    except:\n",
    "        print('Ingen bytter')    \n"
   ]
  },
  {
   "cell_type": "code",
   "execution_count": 10,
   "metadata": {},
   "outputs": [
    {
     "output_type": "stream",
     "name": "stdout",
     "text": [
      "Ingen bytter\n"
     ]
    }
   ],
   "source": [
    "getTransfers(3378570)"
   ]
  },
  {
   "cell_type": "code",
   "execution_count": 11,
   "metadata": {},
   "outputs": [],
   "source": [
    "def getPlayerName(playerID):\n",
    "    return elements.at[playerID, 'web_name']"
   ]
  },
  {
   "cell_type": "code",
   "execution_count": 12,
   "metadata": {},
   "outputs": [
    {
     "output_type": "error",
     "ename": "NameError",
     "evalue": "name 'elements' is not defined",
     "traceback": [
      "\u001b[0;31m---------------------------------------------------------------------------\u001b[0m",
      "\u001b[0;31mNameError\u001b[0m                                 Traceback (most recent call last)",
      "\u001b[0;32m<ipython-input-12-2d7a55714572>\u001b[0m in \u001b[0;36m<module>\u001b[0;34m\u001b[0m\n\u001b[0;32m----> 1\u001b[0;31m \u001b[0mgetPlayerName\u001b[0m\u001b[0;34m(\u001b[0m\u001b[0;36m3\u001b[0m\u001b[0;34m)\u001b[0m\u001b[0;34m\u001b[0m\u001b[0;34m\u001b[0m\u001b[0m\n\u001b[0m",
      "\u001b[0;32m<ipython-input-11-ef708bc0a74b>\u001b[0m in \u001b[0;36mgetPlayerName\u001b[0;34m(playerID)\u001b[0m\n\u001b[1;32m      1\u001b[0m \u001b[0;32mdef\u001b[0m \u001b[0mgetPlayerName\u001b[0m\u001b[0;34m(\u001b[0m\u001b[0mplayerID\u001b[0m\u001b[0;34m)\u001b[0m\u001b[0;34m:\u001b[0m\u001b[0;34m\u001b[0m\u001b[0;34m\u001b[0m\u001b[0m\n\u001b[0;32m----> 2\u001b[0;31m     \u001b[0;32mreturn\u001b[0m \u001b[0melements\u001b[0m\u001b[0;34m.\u001b[0m\u001b[0mat\u001b[0m\u001b[0;34m[\u001b[0m\u001b[0mplayerID\u001b[0m\u001b[0;34m,\u001b[0m \u001b[0;34m'web_name'\u001b[0m\u001b[0;34m]\u001b[0m\u001b[0;34m\u001b[0m\u001b[0;34m\u001b[0m\u001b[0m\n\u001b[0m",
      "\u001b[0;31mNameError\u001b[0m: name 'elements' is not defined"
     ]
    }
   ],
   "source": [
    "getPlayerName(3)"
   ]
  },
  {
   "cell_type": "code",
   "execution_count": null,
   "metadata": {},
   "outputs": [],
   "source": [
    "url2 = 'https://fantasy.premierleague.com/api/bootstrap-static/'\n",
    "r2 = requests.get(url2)\n",
    "json2 = r2.json()\n",
    "elements = pd.DataFrame(json2['elements']).set_index('id')"
   ]
  },
  {
   "cell_type": "code",
   "execution_count": 407,
   "metadata": {},
   "outputs": [
    {
     "output_type": "error",
     "ename": "SyntaxError",
     "evalue": "invalid syntax (<ipython-input-407-23b826c40431>, line 1)",
     "traceback": [
      "\u001b[0;36m  File \u001b[0;32m\"<ipython-input-407-23b826c40431>\"\u001b[0;36m, line \u001b[0;32m1\u001b[0m\n\u001b[0;31m    getAllTransfers():\u001b[0m\n\u001b[0m                      ^\u001b[0m\n\u001b[0;31mSyntaxError\u001b[0m\u001b[0;31m:\u001b[0m invalid syntax\n"
     ]
    }
   ],
   "source": []
  },
  {
   "cell_type": "code",
   "execution_count": null,
   "metadata": {},
   "outputs": [],
   "source": [
    "def getAllTransfers():\n",
    "    url = 'https://fantasy.premierleague.com/api/leagues-classic/627607/standings/'\n",
    "    r = requests.get(url)\n",
    "    json = r.json()\n",
    "    teams = pd.DataFrame(json['standings']['results'])\n",
    "    playerid = teams[['player_name', 'entry']]\n",
    "\n",
    "    for i in range(len(playerid)):\n",
    "        print(playerid.at[i, 'player_name'])\n",
    "        getTransfers(playerid.at[i, 'entry'])"
   ]
  },
  {
   "cell_type": "code",
   "execution_count": 15,
   "metadata": {},
   "outputs": [
    {
     "output_type": "stream",
     "name": "stdout",
     "text": [
      "Vegard Vestvik\n",
      "Chilwell <- -> Rüdiger\n",
      "Mitchell <- -> Shaw\n",
      "Oda Haugane\n",
      "Ingen bytter\n",
      "Endre Bratland Skurtveit\n",
      "Tierney <- -> Cresswell\n",
      "Cavani <- -> Antonio\n",
      "Tor Aimar Carlsen\n",
      "Ingen bytter\n",
      "Espen Sævig\n",
      "Chilwell <- -> Alonso\n",
      "Stian Linde\n",
      "Ingen bytter\n",
      "Dan Erik Linde\n",
      "Robertson <- -> Alonso\n",
      "Eirik Rode\n",
      "Ingen bytter\n",
      "Simen Madsen\n",
      "Ingen bytter\n",
      "Hogne Vestvik\n",
      "Ingen bytter\n"
     ]
    }
   ],
   "source": [
    "getAllTransfers()"
   ]
  },
  {
   "cell_type": "code",
   "execution_count": 16,
   "metadata": {},
   "outputs": [],
   "source": [
    "def getTeamList():\n",
    "        url2 = 'https://fantasy.premierleague.com/api/leagues-classic/627607/standings/'\n",
    "        r2 = requests.get(url2)\n",
    "        json2 = r2.json()\n",
    "        standings_df = pd.DataFrame(json2['standings'])\n",
    "        league_df = pd.DataFrame(standings_df['results'].values.tolist())\n",
    "        return league_df [['entry', 'player_name']]\n",
    "\n",
    "teamsList = getTeamList()\n",
    "\n",
    "def getBootstrapTeams():\n",
    "    url4 = 'https://fantasy.premierleague.com/api/bootstrap-static/'\n",
    "    r4 = requests.get(url4)\n",
    "    json = r4.json()\n",
    "    gameweek_df = pd.DataFrame(json['elements'])\n",
    "    teams = gameweek_df[['id', 'team', 'element_type']]\n",
    "    teams.set_index('id', inplace = True)\n",
    "    return teams\n",
    "\n",
    "teams = getBootstrapTeams()\n",
    "\n",
    "def getBootstrapNames():\n",
    "    url2 = 'https://fantasy.premierleague.com/api/bootstrap-static/'\n",
    "    r2 = requests.get(url2)\n",
    "    json2 = r2.json()\n",
    "    return pd.DataFrame(json2['elements']).set_index('id')\n",
    "\n",
    "names = getBootstrapNames()"
   ]
  },
  {
   "cell_type": "code",
   "execution_count": 17,
   "metadata": {},
   "outputs": [],
   "source": [
    "from typing import Text\n",
    "from flask import Flask, render_template\n",
    "import pandas as pd\n",
    "import requests\n",
    "from datetime import timedelta, datetime\n"
   ]
  },
  {
   "cell_type": "code",
   "execution_count": 18,
   "metadata": {},
   "outputs": [],
   "source": [
    "    def checkGameweek():\n",
    "        url3 = 'https://fantasy.premierleague.com/api/bootstrap-static/'\n",
    "        r3 = requests.get(url3)\n",
    "        json = r3.json()\n",
    "        gameweek_df = pd.DataFrame(json['events'])\n",
    "        iscurrent = gameweek_df[['id', 'is_current']]\n",
    "        currentGw = iscurrent.loc[(iscurrent.is_current == True)].iat[0,0]\n",
    "        return currentGw\n",
    "\n",
    "    thisGw = checkGameweek()\n",
    "\n",
    "    def getGwFixtures():\n",
    "        url2 = 'https://fantasy.premierleague.com/api/fixtures/?event=' + str(thisGw)\n",
    "        r2 = requests.get(url2)\n",
    "        json2 = r2.json()\n",
    "        fixtures_df = pd.DataFrame(json2)\n",
    "        \n",
    "        hfixtures = fixtures_df[['team_h', 'finished_provisional']]\n",
    "\n",
    "        aFixtures = fixtures_df[['team_a', 'finished_provisional']]\n",
    "        aFixtures.columns = ['team_h', 'finished_provisional']\n",
    "        \n",
    "        allFix = hfixtures.append(aFixtures)\n",
    "        allFix.set_index('team_h', inplace = True)\n",
    "        return allFix\n",
    "\n",
    "    allFix = getGwFixtures()\n",
    "\n",
    "    def getMinutesPlayed():\n",
    "        url1 = 'https://fantasy.premierleague.com/api/event/' + str(thisGw) + '/live/'\n",
    "        r1 = requests.get(url1)\n",
    "        json1 = r1.json()\n",
    "        liveElements_df = pd.DataFrame(json1['elements'])\n",
    "        ids = liveElements_df['id']\n",
    "        stats_df = pd.DataFrame(liveElements_df['stats'].values.tolist())\n",
    "        minutes = pd.DataFrame(stats_df['minutes'])\n",
    "\n",
    "        minutes.insert(0, 'id', ids, True)\n",
    "\n",
    "        minutes.set_index('id', inplace = True)\n",
    "        return minutes\n",
    "\n",
    "    minutes = getMinutesPlayed()\n",
    "\n",
    "    def getPlayerName(playerID):\n",
    "        return names.at[playerID, 'web_name']\n",
    "\n",
    "    def didNotPlay(playerId):\n",
    "        teamId = teams.at[playerId, 'team']\n",
    "        try:\n",
    "            return minutes.at[playerId, 'minutes'] == 0 and all(allFix.at[teamId, 'finished_provisional'])\n",
    "        except:\n",
    "            try:\n",
    "                return minutes.at[playerId, 'minutes'] == 0 and allFix.at[teamId, 'finished_provisional']\n",
    "            except:\n",
    "                return True\n",
    "    \n",
    "    def getAutoSubs(teamId):   \n",
    "        url4 = 'https://fantasy.premierleague.com/api/entry/' + str(teamId) + '/event/' + str(thisGw) + '/picks/'\n",
    "        r4 = requests.get(url4)\n",
    "        json4 = r4.json()\n",
    "        picks_df = pd.DataFrame(json4['picks'])\n",
    "\n",
    "        spillerListeOrg = picks_df[['element', 'multiplier', 'is_captain', 'is_vice_captain']]\n",
    "        \n",
    "        spillerListe = spillerListeOrg.copy()\n",
    "\n",
    "        minDef = 3\n",
    "        minMid = 2\n",
    "        minAtt = 1\n",
    "\n",
    "        countGk = 0\n",
    "        countDef = 0\n",
    "        countMid = 0\n",
    "        countAtt = 0\n",
    "\n",
    "        gk = 1\n",
    "        defs = 2\n",
    "        mids = 3\n",
    "        atts = 4\n",
    "\n",
    "        keeperbytte = spillerListe.iat[11, 0]\n",
    "\n",
    "        for obj in spillerListe['element'][0:11]:\n",
    "            starter = obj\n",
    "            spillerpos = teams.at[starter, 'element_type']\n",
    "            spilteIkke = didNotPlay(starter)\n",
    "\n",
    "            if not spilteIkke:\n",
    "                if spillerpos == gk:\n",
    "                    countGk += 1\n",
    "                if spillerpos == defs:\n",
    "                    countDef += 1\n",
    "                if spillerpos == mids:\n",
    "                    countMid += 1\n",
    "                if spillerpos == atts:\n",
    "                    countAtt += 1\n",
    "\n",
    "        for i in range(len(spillerListe[0:11])):\n",
    "            if (countGk + countDef + countMid + countAtt) == 11:\n",
    "                break\n",
    "            \n",
    "            starter = spillerListe.iat[i,0]\n",
    "            spilteIkke = didNotPlay(starter)\n",
    "            spillerpos = teams.at[starter, 'element_type']\n",
    "\n",
    "            erKaptein = spillerListe.iat[i, 2]\n",
    "\n",
    "            # sjekke kaptein\n",
    "            if spilteIkke and erKaptein:\n",
    "                spillerListe.loc[spillerListe['is_vice_captain'] == True, 'multiplier'] = spillerListe.iat[i, 1]\n",
    "                spillerListe.iat[i, 1] = 0\n",
    "\n",
    "            # keeperbytte\n",
    "            if spillerpos == gk and spilteIkke:\n",
    "                spillerListe.iat[i,1] = 0\n",
    "                if not didNotPlay(keeperbytte):\n",
    "                    spillerListe.iat[i, 0], spillerListe.iat[11, 0] = spillerListe.iat[11, 0], spillerListe.iat[i, 0]\n",
    "                    spillerListe.iat[i,1] = 1\n",
    "                    countGk += 1\n",
    "                else:\n",
    "                    countGk += 1\n",
    "                    \n",
    "            # bytte fra benken\n",
    "            if spillerpos != gk and spilteIkke:\n",
    "                \n",
    "                spillerListe.iat[i,1] = 0\n",
    "                byttet = False\n",
    "\n",
    "                for j in range (len(spillerListe[12:15])):\n",
    "                    if didNotPlay(spillerListe[12:15].iat[j,0]):\n",
    "                        continue\n",
    "                    \n",
    "                    innbytterPos = teams.at[spillerListe[12:15].iat[j,0], 'element_type']\n",
    "\n",
    "                    if countDef >= minDef and countMid >= minMid and countAtt >= minAtt:\n",
    "                        spillerListe.iat[i,0], spillerListe[12:15].iat[j,0] = spillerListe[12:15].iat[j,0], spillerListe.iat[i,0] \n",
    "                        spillerListe.iat[i,1] = 1\n",
    "\n",
    "                        if innbytterPos == defs:\n",
    "                            countDef += 1\n",
    "                        if innbytterPos == mids:\n",
    "                            countMid += 1\n",
    "                        if innbytterPos == atts:\n",
    "                            countAtt += 1\n",
    "                        byttet = True\n",
    "                        break           \n",
    "                            \n",
    "                    if countDef < minDef and innbytterPos == defs:\n",
    "                        spillerListe.iat[i,0], spillerListe[12:15].iat[j,0] = spillerListe[12:15].iat[j,0], spillerListe.iat[i,0]\n",
    "                        spillerListe.iat[i,1] = 1\n",
    "                        countDef += 1\n",
    "                        byttet = True\n",
    "                        break\n",
    "\n",
    "                    if countMid < minMid and innbytterPos == mids:\n",
    "                        spillerListe.iat[i,0], spillerListe[12:15].iat[j,0] = spillerListe[12:15].iat[j,0], spillerListe.iat[i,0]\n",
    "                        spillerListe.iat[i,1] = 1\n",
    "                        countMid += 1\n",
    "                        byttet = True\n",
    "                        break\n",
    "\n",
    "                    if countAtt < minAtt and innbytterPos == atts:\n",
    "                        spillerListe.iat[i,0], spillerListe[12:15].iat[j,0] = spillerListe[12:15].iat[j,0], spillerListe.iat[i,0]\n",
    "                        spillerListe.iat[i,1] = 1\n",
    "                        countAtt += 1\n",
    "                        byttet = True\n",
    "                        break\n",
    "                    \n",
    "                if byttet == False:\n",
    "                    if spillerpos == defs:\n",
    "                        countDef += 1\n",
    "                    if spillerpos == mids:\n",
    "                        countMid += 1\n",
    "                    if spillerpos == atts:\n",
    "                        countAtt += 1\n",
    "\n",
    "        navn = []\n",
    "        for spiller in spillerListe['element']:\n",
    "            navn.append(getPlayerName(spiller))\n",
    "\n",
    "        spillerListe = spillerListe[0:15][['element', 'multiplier']]\n",
    "        spillerListe['navn'] = navn\n",
    "        \n",
    "        return spillerListe\n",
    "\n",
    "    def getBonusLists():\n",
    "        liste = []\n",
    "        elements = pd.DataFrame()\n",
    "        url = 'https://fantasy.premierleague.com/api/fixtures/?event=' + str(thisGw)\n",
    "        r = requests.get(url)\n",
    "        json = r.json()\n",
    "        fixtures_df = pd.DataFrame(json)\n",
    "        \n",
    "        now = datetime.utcnow()\n",
    "        for i in range (len(fixtures_df)):\n",
    "            gameStart = fixtures_df.at[i, 'kickoff_time']\n",
    "            gameStart = datetime.strptime(gameStart, \"%Y-%m-%dT%H:%M:%SZ\")\n",
    "            played60 = gameStart + timedelta(minutes = 79)\n",
    "            if now > played60:\n",
    "                try:\n",
    "                    stats_df = pd.DataFrame(fixtures_df['stats'].iloc[i])\n",
    "                    stats_a = pd.DataFrame(stats_df.loc[9,'a'])\n",
    "                    stats_h = pd.DataFrame(stats_df.loc[9,'h'])\n",
    "                    samlet = stats_a.append(stats_h)\n",
    "                    sort = samlet.sort_values(by=['value'], ascending=False)\n",
    "                    ferdig = sort.reset_index(drop=True)\n",
    "                    bps = ferdig[0:8].copy()\n",
    "                    elements = elements.append(bps, ignore_index = True, sort = False)\n",
    "                    \n",
    "                    first = False\n",
    "                    second = False\n",
    "                    third = False\n",
    "                    count = 0\n",
    "                    for j in range(len(bps)):\n",
    "                        if first == False:\n",
    "                            try:\n",
    "                                if (bps.iat[j,0] == bps.iat[j+1,0]):\n",
    "                                    liste.append(3)\n",
    "                                    count += 1\n",
    "                                elif (bps.iat[j,0] != bps.iat[j+1,0]):\n",
    "                                    liste.append(3)\n",
    "                                    count += 1\n",
    "                                    first = True\n",
    "                            except:\n",
    "                                pass\n",
    "\n",
    "                        elif second == False and count <= 1:\n",
    "                            try:\n",
    "                                if (bps.iat[j,0] == bps.iat[j+1,0]):\n",
    "                                    liste.append(2)\n",
    "                                    count -= 1\n",
    "                                elif (bps.iat[j,0] != bps.iat[j+1,0]):\n",
    "                                    liste.append(2)\n",
    "                                    count += 1\n",
    "                                    second = True\n",
    "                            except:\n",
    "                                pass\n",
    "\n",
    "                        elif third == False and count == 2:\n",
    "                            try:\n",
    "                                if (bps.iat[j,0] == bps.iat[j+1,0]):\n",
    "                                    liste.append(1)\n",
    "                                elif (bps.iat[j,0] != bps.iat[j+1,0]):\n",
    "                                    liste.append(1)\n",
    "                                    third = True\n",
    "                            except:\n",
    "                                pass\n",
    "                        else:\n",
    "                            liste.append(0)\n",
    "                except:\n",
    "                    pass\n",
    "        try:\n",
    "            elements['bonus'] = liste\n",
    "            return elements.set_index('element', inplace=False)['bonus']\n",
    "        except:\n",
    "            return []\n",
    "\n",
    "    bonuspoints = getBonusLists()\n",
    "\n",
    "    def getLiveBonusList(teamId):\n",
    "        picks = getAutoSubs(teamId)\n",
    "        bonusPoeng = []\n",
    "        for ids in picks['element']:\n",
    "            try:\n",
    "                bonusPoeng.append(sum(bonuspoints.at[ids]))\n",
    "            except:\n",
    "                try:\n",
    "                    bonusPoeng.append(bonuspoints.at[ids])\n",
    "                except:\n",
    "                    bonusPoeng.append(0)\n",
    "            \n",
    "        return bonusPoeng\n",
    "\n",
    "    def getAllPlayerList():\n",
    "        url = 'https://fantasy.premierleague.com/api/event/' + str(thisGw) + '/live/'\n",
    "        r = requests.get(url)\n",
    "        json = r.json()\n",
    "        liveElements_df = pd.DataFrame(json['elements'])\n",
    "        liveId = liveElements_df['id']\n",
    "        stats_df = pd.DataFrame(liveElements_df['stats'].values.tolist())\n",
    "        liveTotPoints_df = pd.DataFrame(stats_df[['total_points', 'bonus']])\n",
    "        liveTotPoints_df.insert(0,'id', liveId, True)\n",
    "        return liveTotPoints_df\n",
    "\n",
    "    liveTotPoints = getAllPlayerList()\n",
    "\n",
    "    def getLivePlayerPoints(teamId):\n",
    "        slim_picks = getAutoSubs(teamId)\n",
    "        \n",
    "        slim_picks['live_bonus'] = getLiveBonusList(teamId)\n",
    "        \n",
    "        poeng = []\n",
    "        for i in range(len(slim_picks)):\n",
    "            tempId = slim_picks.at[i,'element']\n",
    "            poeng.append((liveTotPoints.iat[tempId - 1, 1] + slim_picks.at[i, 'live_bonus'] - \n",
    "                    liveTotPoints.iat[tempId - 1, 2]) * slim_picks.at[i, 'multiplier'])\n",
    "            \n",
    "        return poeng\n",
    "\n",
    "    def getPointsAndPlayers(teamId):\n",
    "        tabell = getAutoSubs(teamId)\n",
    "        poeng = getLivePlayerPoints(teamId)\n",
    "\n",
    "        tabell['points'] = poeng\n",
    "\n",
    "        posisjon = []\n",
    "        photo = []\n",
    "        for player in tabell['element']:\n",
    "            posisjon.append(teams.at[player, 'element_type'])\n",
    "            photo.append(names.at[player, 'code'])\n",
    "\n",
    "        tabell['pos'] = posisjon\n",
    "        tabell['photo'] = photo\n",
    "        return tabell[['navn', 'points', 'pos', 'photo']]\n",
    "    \n",
    "\n",
    "    data = getPointsAndPlayers(3378570)\n",
    "    data = data.apply(pd.Series.explode).to_dict(orient='records')"
   ]
  },
  {
   "cell_type": "code",
   "execution_count": 19,
   "metadata": {},
   "outputs": [],
   "source": [
    "gk = []\n",
    "defs = []\n",
    "mid = []\n",
    "att = []\n",
    "\n",
    "for i in range (len(data[0:11])):\n",
    "    if (data[i]['pos'] == 1):\n",
    "        gk.append(data[i]['navn'] + \"(\" + str(data[i]['points']) + \")\")\n",
    "    if (data[i]['pos'] == 2):\n",
    "        defs.append(data[i]['navn'] + \"(\" + str(data[i]['points']) + \")\")\n",
    "    if (data[i]['pos'] == 3):\n",
    "        mid.append(data[i]['navn'] + \"(\" + str(data[i]['points']) + \")\")\n",
    "    if (data[i]['pos'] == 4):\n",
    "        att.append(data[i]['navn'] + \"(\" + str(data[i]['points']) + \")\")"
   ]
  },
  {
   "cell_type": "code",
   "execution_count": 20,
   "metadata": {},
   "outputs": [
    {
     "output_type": "execute_result",
     "data": {
      "text/plain": [
       "['Bamford(0)', 'Calvert-Lewin(0)']"
      ]
     },
     "metadata": {},
     "execution_count": 20
    }
   ],
   "source": [
    "att"
   ]
  },
  {
   "cell_type": "code",
   "execution_count": 21,
   "metadata": {},
   "outputs": [
    {
     "output_type": "execute_result",
     "data": {
      "text/plain": [
       "[{'navn': 'McCarthy', 'points': 0, 'pos': 1, 'photo': 58376},\n",
       " {'navn': 'Dias', 'points': 0, 'pos': 2, 'photo': 171314},\n",
       " {'navn': 'Stones', 'points': 0, 'pos': 2, 'photo': 97299},\n",
       " {'navn': 'Coufal', 'points': 0, 'pos': 2, 'photo': 164555},\n",
       " {'navn': 'Targett', 'points': 0, 'pos': 2, 'photo': 169359},\n",
       " {'navn': 'Son', 'points': 0, 'pos': 3, 'photo': 85971},\n",
       " {'navn': 'Fernandes', 'points': 0, 'pos': 3, 'photo': 141746},\n",
       " {'navn': 'Rashford', 'points': 0, 'pos': 3, 'photo': 176297},\n",
       " {'navn': 'Sterling', 'points': 0, 'pos': 3, 'photo': 103955},\n",
       " {'navn': 'Bamford', 'points': 0, 'pos': 4, 'photo': 106617},\n",
       " {'navn': 'Calvert-Lewin', 'points': 0, 'pos': 4, 'photo': 177815},\n",
       " {'navn': 'Peacock-Farrell', 'points': 0, 'pos': 1, 'photo': 220037},\n",
       " {'navn': 'Raphinha', 'points': 0, 'pos': 3, 'photo': 219961},\n",
       " {'navn': 'El Mohamady', 'points': 0, 'pos': 2, 'photo': 37339},\n",
       " {'navn': 'Watkins', 'points': 0, 'pos': 4, 'photo': 178301}]"
      ]
     },
     "metadata": {},
     "execution_count": 21
    }
   ],
   "source": [
    "data"
   ]
  },
  {
   "cell_type": "code",
   "execution_count": 40,
   "metadata": {},
   "outputs": [],
   "source": [
    "def test():\n",
    "\n",
    "    for dic in data: \n",
    "        if dic[\"pos\"] == 1:\n",
    "            return (dic[\"navn\"])"
   ]
  },
  {
   "cell_type": "code",
   "execution_count": 41,
   "metadata": {},
   "outputs": [
    {
     "output_type": "execute_result",
     "data": {
      "text/plain": [
       "'McCarthy'"
      ]
     },
     "metadata": {},
     "execution_count": 41
    }
   ],
   "source": [
    "test()"
   ]
  },
  {
   "cell_type": "code",
   "execution_count": 106,
   "metadata": {},
   "outputs": [
    {
     "output_type": "execute_result",
     "data": {
      "text/plain": [
       "dict_values(['McCarthy', 0, 1, 58376])"
      ]
     },
     "metadata": {},
     "execution_count": 106
    }
   ],
   "source": [
    "data"
   ]
  },
  {
   "cell_type": "code",
   "execution_count": 26,
   "metadata": {},
   "outputs": [],
   "source": [
    "a_dict = [{'color': 'blue', 'fruit': 'apple', 'pet': 'dog'}, \n",
    "{'frag': 'nlå', 'frfsat': 'apdsadsaple', 'pdsasdaet': 'ddsqdsog'}]"
   ]
  },
  {
   "cell_type": "code",
   "execution_count": 33,
   "metadata": {},
   "outputs": [
    {
     "output_type": "error",
     "ename": "NameError",
     "evalue": "name 'color' is not defined",
     "traceback": [
      "\u001b[0;31m---------------------------------------------------------------------------\u001b[0m",
      "\u001b[0;31mNameError\u001b[0m                                 Traceback (most recent call last)",
      "\u001b[0;32m<ipython-input-33-2690055947c7>\u001b[0m in \u001b[0;36m<module>\u001b[0;34m\u001b[0m\n\u001b[1;32m      1\u001b[0m \u001b[0;32mfor\u001b[0m \u001b[0mkey\u001b[0m \u001b[0;32min\u001b[0m \u001b[0ma_dict\u001b[0m\u001b[0;34m:\u001b[0m\u001b[0;34m\u001b[0m\u001b[0;34m\u001b[0m\u001b[0m\n\u001b[1;32m      2\u001b[0m     \u001b[0;32mfor\u001b[0m \u001b[0ml\u001b[0m \u001b[0;32min\u001b[0m \u001b[0mkey\u001b[0m\u001b[0;34m:\u001b[0m\u001b[0;34m\u001b[0m\u001b[0;34m\u001b[0m\u001b[0m\n\u001b[0;32m----> 3\u001b[0;31m         \u001b[0mprint\u001b[0m\u001b[0;34m(\u001b[0m\u001b[0ml\u001b[0m\u001b[0;34m,\u001b[0m \u001b[0;34m'->'\u001b[0m\u001b[0;34m,\u001b[0m \u001b[0mcolor\u001b[0m\u001b[0;34m)\u001b[0m\u001b[0;34m\u001b[0m\u001b[0;34m\u001b[0m\u001b[0m\n\u001b[0m",
      "\u001b[0;31mNameError\u001b[0m: name 'color' is not defined"
     ]
    }
   ],
   "source": [
    "for key in a_dict:\n",
    "    for l in key:\n",
    "        print(l, '->', color)"
   ]
  },
  {
   "cell_type": "code",
   "execution_count": 132,
   "metadata": {},
   "outputs": [
    {
     "output_type": "stream",
     "name": "stdout",
     "text": [
      "1\n2\n3\n"
     ]
    }
   ],
   "source": [
    "dict = {\n",
    "    'value1': 1,\n",
    "    'value2': 2,\n",
    "    'value3': 3\n",
    "}\n",
    "for key, value in dict.items():\n",
    "    print(value)"
   ]
  },
  {
   "cell_type": "code",
   "execution_count": null,
   "metadata": {},
   "outputs": [],
   "source": []
  },
  {
   "cell_type": "code",
   "execution_count": null,
   "metadata": {},
   "outputs": [],
   "source": []
  },
  {
   "cell_type": "code",
   "execution_count": null,
   "metadata": {},
   "outputs": [],
   "source": []
  },
  {
   "cell_type": "code",
   "execution_count": null,
   "metadata": {},
   "outputs": [],
   "source": []
  },
  {
   "cell_type": "code",
   "execution_count": null,
   "metadata": {},
   "outputs": [],
   "source": []
  },
  {
   "cell_type": "code",
   "execution_count": null,
   "metadata": {},
   "outputs": [],
   "source": []
  },
  {
   "cell_type": "code",
   "execution_count": null,
   "metadata": {},
   "outputs": [],
   "source": []
  },
  {
   "cell_type": "code",
   "execution_count": null,
   "metadata": {},
   "outputs": [],
   "source": []
  },
  {
   "cell_type": "code",
   "execution_count": 16,
   "metadata": {},
   "outputs": [],
   "source": [
    "tall = [49, 49, 23, 20, 21, 19]"
   ]
  },
  {
   "cell_type": "code",
   "execution_count": 17,
   "metadata": {},
   "outputs": [],
   "source": [
    "def bonusListe(liste):\n",
    "    ferdig = []\n",
    "    bonus = 3\n",
    "    for i in range (len(liste)-1):\n",
    "        if liste[i] == liste[i+1]:\n",
    "            ferdig.append(bonus)\n",
    "        else:\n",
    "            ferdig.append(bonus)\n",
    "            bonus -= 1\n",
    "    return ferdig\n"
   ]
  },
  {
   "cell_type": "code",
   "execution_count": 18,
   "metadata": {},
   "outputs": [
    {
     "output_type": "execute_result",
     "data": {
      "text/plain": [
       "[3, 3, 2, 1, 0]"
      ]
     },
     "metadata": {},
     "execution_count": 18
    }
   ],
   "source": [
    "bonusListe(tall)"
   ]
  },
  {
   "cell_type": "code",
   "execution_count": null,
   "metadata": {},
   "outputs": [],
   "source": []
  }
 ]
}